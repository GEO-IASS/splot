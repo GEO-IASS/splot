{
 "cells": [
  {
   "cell_type": "markdown",
   "metadata": {},
   "source": [
    "Install the lastest widgets code...\n",
    "\n",
    "```conda install -c conda-forge ipywidgets```"
   ]
  },
  {
   "cell_type": "code",
   "execution_count": 1,
   "metadata": {
    "collapsed": false
   },
   "outputs": [],
   "source": [
    "from ipywidgets import Dropdown, RadioButtons, VBox, FloatSlider\n",
    "from IPython.display import display"
   ]
  },
  {
   "cell_type": "code",
   "execution_count": 2,
   "metadata": {
    "collapsed": false
   },
   "outputs": [],
   "source": [
    "data_type = RadioButtons(options=['sequential', 'diverging', 'qualitative'])\n",
    "\n",
    "bindings = {'sequential': range(3,9+1),\n",
    "            'diverging': range(3,11+1),\n",
    "            'qualitative': range(3,12+1)}\n",
    "\n",
    "class_val = Dropdown(options=bindings[data_type.value])    \n",
    "\n",
    "def type_change(change):\n",
    "    class_val.options = bindings[change['new']]\n",
    "\n",
    "data_type.observe(type_change, names=['value'])\n",
    "\n",
    "display(VBox([data_type, class_val]))"
   ]
  },
  {
   "cell_type": "code",
   "execution_count": 3,
   "metadata": {
    "collapsed": false
   },
   "outputs": [],
   "source": [
    "\"\"\"\n",
    "data_type = RadioButtons(options=['sequential', 'diverging', 'qualitative'])\n",
    "\n",
    "bindings = {'sequential': range(3,9+1),\n",
    "            'diverging': range(3,11+1),\n",
    "            'qualitative': range(3,12+1)}\n",
    "\n",
    "class_val = Dropdown(options=bindings[data_type.value])    \n",
    "\n",
    "def type_change(change):\n",
    "    class_val.options = bindings[change['new']]\n",
    "\n",
    "data_type.observe(type_change, names=['value'])\n",
    "\n",
    "display(VBox([data_type, class_val]))\n",
    "\"\"\"\n",
    "# on data_type change update list of color maps\n",
    "# based on class_val and data_type\n",
    "\n",
    "from pysal.contrib.viz.color import color_display_types\n",
    "\n",
    "dt = sorted(color_display_types.keys(), reverse=True)\n",
    "data_type = RadioButtons(description='Data Type', options=dt)\n",
    "bindings = {}\n",
    "for t in dt:\n",
    "    bindings[t] = color_display_types[t].keys()\n",
    "    \n",
    "cmap = Dropdown(description='CMap:', options=bindings[data_type.value])\n",
    "\n",
    "def type_change(change):\n",
    "    with cmap.hold_trait_notifications():\n",
    "        cmap.options = bindings[change['new']]\n",
    "\n",
    "data_type.observe(type_change, names=['value'])\n",
    "\n",
    "display(VBox([data_type, cmap]))\n",
    "\n"
   ]
  },
  {
   "cell_type": "code",
   "execution_count": 4,
   "metadata": {
    "collapsed": false
   },
   "outputs": [],
   "source": [
    "\"\"\"\n",
    "data_type = RadioButtons(options=['sequential', 'diverging', 'qualitative'])\n",
    "\n",
    "bindings = {'sequential': range(3,9+1),\n",
    "            'diverging': range(3,11+1),\n",
    "            'qualitative': range(3,12+1)}\n",
    "\n",
    "class_val = Dropdown(options=bindings[data_type.value])    \n",
    "\n",
    "def type_change(change):\n",
    "    class_val.options = bindings[change['new']]\n",
    "\n",
    "data_type.observe(type_change, names=['value'])\n",
    "\n",
    "display(VBox([data_type, class_val]))\n",
    "\"\"\"\n",
    "# on data_type change update list of color maps\n",
    "# based on class_val and data_type\n",
    "\n",
    "from pysal.contrib.viz.color import color_display_types\n",
    "from pysal.contrib.viz.color import plot_cmaps as pcmaps\n",
    "\n",
    "dt = sorted(color_display_types.keys(), reverse=True)\n",
    "data_type = RadioButtons(description='Data Type', options=dt)\n",
    "bindings = {}\n",
    "for t in dt:\n",
    "    bindings[t] = color_display_types[t].keys()\n",
    "    \n",
    "cmap = Dropdown(description='CMap:', options=bindings[data_type.value])\n",
    "\n",
    "def type_change(change):\n",
    "    with cmap.hold_trait_notifications():\n",
    "        cmap.options = bindings[change['new']]\n",
    "\n",
    "data_type.observe(type_change, names=['value'])  \n",
    "\n",
    "display(VBox([data_type, cmap]))\n",
    "\n"
   ]
  },
  {
   "cell_type": "code",
   "execution_count": 5,
   "metadata": {
    "collapsed": false
   },
   "outputs": [
    {
     "data": {
      "image/png": "[encoded data removed]",
      "text/plain": [
       "<matplotlib.figure.Figure at 0x7f3ff7fe6f50>"
      ]
     },
     "metadata": {},
     "output_type": "display_data"
    }
   ],
   "source": [
    "%matplotlib inline\n",
    "from pysal.contrib.viz.color import plot_cmaps \n",
    "plot_cmaps('diverging', selected=3)"
   ]
  },
  {
   "cell_type": "code",
   "execution_count": 6,
   "metadata": {
    "collapsed": false
   },
   "outputs": [
    {
     "data": {
      "image/png": "[encoded data removed]",
      "text/plain": [
       "<matplotlib.figure.Figure at 0x7f3ff800be50>"
      ]
     },
     "metadata": {},
     "output_type": "display_data"
    }
   ],
   "source": [
    "plot_cmaps('diverging', 5)"
   ]
  },
  {
   "cell_type": "code",
   "execution_count": 7,
   "metadata": {
    "collapsed": false
   },
   "outputs": [
    {
     "data": {
      "image/png": "[encoded data removed]",
      "text/plain": [
       "<matplotlib.figure.Figure at 0x7f4028a8a7d0>"
      ]
     },
     "metadata": {},
     "output_type": "display_data"
    }
   ],
   "source": [
    "plot_cmaps('sequential', 10)"
   ]
  },
  {
   "cell_type": "code",
   "execution_count": 8,
   "metadata": {
    "collapsed": false
   },
   "outputs": [],
   "source": [
    "\"\"\"\n",
    "data_type = RadioButtons(options=['sequential', 'diverging', 'qualitative'])\n",
    "\n",
    "bindings = {'sequential': range(3,9+1),\n",
    "            'diverging': range(3,11+1),\n",
    "            'qualitative': range(3,12+1)}\n",
    "\n",
    "class_val = Dropdown(options=bindings[data_type.value])    \n",
    "\n",
    "def type_change(change):\n",
    "    class_val.options = bindings[change['new']]\n",
    "\n",
    "data_type.observe(type_change, names=['value'])\n",
    "\n",
    "display(VBox([data_type, class_val]))\n",
    "\"\"\"\n",
    "# on data_type change update list of color maps\n",
    "# based on class_val and data_type\n",
    "\n",
    "from pysal.contrib.viz.color import color_display_types\n",
    "\n",
    "dt = sorted(color_display_types.keys(), reverse=True)\n",
    "data_type = RadioButtons(description='Data Type', options=dt)\n",
    "bindings = {}\n",
    "for t in dt:\n",
    "    bindings[t] = color_display_types[t].keys()\n",
    "    \n",
    "cmap = Dropdown(description='CMap:', options=bindings[data_type.value])\n",
    "\n",
    "def type_change(change):\n",
    "    with cmap.hold_trait_notifications():\n",
    "        cmap.options = bindings[change['new']]\n",
    "\n",
    "data_type.observe(type_change, names=['value'])\n",
    "\n",
    "display(VBox([data_type, cmap]))\n",
    "\n"
   ]
  },
  {
   "cell_type": "code",
   "execution_count": null,
   "metadata": {
    "collapsed": false
   },
   "outputs": [],
   "source": []
  },
  {
   "cell_type": "code",
   "execution_count": null,
   "metadata": {
    "collapsed": true
   },
   "outputs": [],
   "source": []
  },
  {
   "cell_type": "code",
   "execution_count": null,
   "metadata": {
    "collapsed": true
   },
   "outputs": [],
   "source": []
  },
  {
   "cell_type": "code",
   "execution_count": null,
   "metadata": {
    "collapsed": true
   },
   "outputs": [],
   "source": []
  },
  {
   "cell_type": "code",
   "execution_count": null,
   "metadata": {
    "collapsed": true
   },
   "outputs": [],
   "source": []
  },
  {
   "cell_type": "code",
   "execution_count": null,
   "metadata": {
    "collapsed": true
   },
   "outputs": [],
   "source": []
  },
  {
   "cell_type": "code",
   "execution_count": null,
   "metadata": {
    "collapsed": true
   },
   "outputs": [],
   "source": []
  },
  {
   "cell_type": "code",
   "execution_count": 12,
   "metadata": {
    "collapsed": false,
    "scrolled": true
   },
   "outputs": [
    {
     "ename": "NameError",
     "evalue": "name 'interact' is not defined",
     "output_type": "error",
     "traceback": [
      "\u001b[1;31m---------------------------------------------------------------------------\u001b[0m",
      "\u001b[1;31mNameError\u001b[0m                                 Traceback (most recent call last)",
      "\u001b[1;32m<ipython-input-12-6677e49d3878>\u001b[0m in \u001b[0;36m<module>\u001b[1;34m()\u001b[0m\n\u001b[0;32m      8\u001b[0m \u001b[1;32mdef\u001b[0m \u001b[0mprinter\u001b[0m\u001b[1;33m(\u001b[0m\u001b[0mx\u001b[0m\u001b[1;33m,\u001b[0m \u001b[0my\u001b[0m\u001b[1;33m)\u001b[0m\u001b[1;33m:\u001b[0m\u001b[1;33m\u001b[0m\u001b[0m\n\u001b[0;32m      9\u001b[0m     \u001b[1;32mprint\u001b[0m\u001b[1;33m(\u001b[0m\u001b[0mx\u001b[0m\u001b[1;33m,\u001b[0m \u001b[0my\u001b[0m\u001b[1;33m)\u001b[0m\u001b[1;33m\u001b[0m\u001b[0m\n\u001b[1;32m---> 10\u001b[1;33m \u001b[0minteract\u001b[0m\u001b[1;33m(\u001b[0m\u001b[0mprinter\u001b[0m\u001b[1;33m,\u001b[0m\u001b[0mx\u001b[0m\u001b[1;33m=\u001b[0m\u001b[0mx_widget\u001b[0m\u001b[1;33m,\u001b[0m \u001b[0my\u001b[0m\u001b[1;33m=\u001b[0m\u001b[0my_widget\u001b[0m\u001b[1;33m)\u001b[0m\u001b[1;33m\u001b[0m\u001b[0m\n\u001b[0m",
      "\u001b[1;31mNameError\u001b[0m: name 'interact' is not defined"
     ]
    }
   ],
   "source": [
    "x_widget = FloatSlider(min=0.0, max=10.0, step=0.05)\n",
    "y_widget = FloatSlider(min=0.5, max=10.0, step=0.05, value=5.0)\n",
    "\n",
    "def update_x_range(*args):\n",
    "    x_widget.max = 2.0 * y_widget.value\n",
    "y_widget.observe(update_x_range, 'value')\n",
    "\n",
    "def printer(x, y):\n",
    "    print(x, y)\n",
    "interact(printer,x=x_widget, y=y_widget)"
   ]
  },
  {
   "cell_type": "code",
   "execution_count": null,
   "metadata": {
    "collapsed": true
   },
   "outputs": [],
   "source": []
  },
  {
   "cell_type": "code",
   "execution_count": null,
   "metadata": {
    "collapsed": true
   },
   "outputs": [],
   "source": []
  },
  {
   "cell_type": "code",
   "execution_count": null,
   "metadata": {
    "collapsed": true
   },
   "outputs": [],
   "source": []
  },
  {
   "cell_type": "code",
   "execution_count": null,
   "metadata": {
    "collapsed": true
   },
   "outputs": [],
   "source": [
    "import pysal as ps\n",
    "import numpy as np\n",
    "import matplotlib.pyplot as plt\n",
    "from scipy.linalg import inv\n",
    "%matplotlib inline"
   ]
  },
  {
   "cell_type": "code",
   "execution_count": null,
   "metadata": {
    "collapsed": false
   },
   "outputs": [],
   "source": [
    "from ipywidgets import interact\n",
    "interact(draw_map, lamb=(-0.9, 0.9))"
   ]
  },
  {
   "cell_type": "code",
   "execution_count": null,
   "metadata": {
    "collapsed": true
   },
   "outputs": [],
   "source": [
    "def draw_map(lamb):\n",
    "    s = 20\n",
    "    n = s**2\n",
    "    w = ps.lat2W(s, s, rook=False)\n",
    "    w.transform = 'R'\n",
    "    e = np.random.random((n, 1))\n",
    "    u = inv(np.eye(n) - lamb * w.full()[0])\n",
    "    u = np.dot(u, e)\n",
    "    ul = ps.lag_spatial(w, u)\n",
    "    u = (u - u.mean()) / np.std(u)\n",
    "    ul = (ul - ul.mean()) / np.std(ul)\n",
    "    gu = u.reshape((s, s))\n",
    "    # Figure\n",
    "    f = plt.figure(figsize=(9, 4))\n",
    "    ax1 = f.add_subplot(121)\n",
    "    ax1.matshow(gu, cmap=plt.cm.YlGn)\n",
    "    ax1.set_frame_on(False)\n",
    "    ax1.axes.get_xaxis().set_visible(False)\n",
    "    ax1.axes.get_yaxis().set_visible(False)\n",
    "    #---\n",
    "    ax2 = f.add_subplot(122)\n",
    "    sc = ax2.scatter(u, ul, linewidth=0)\n",
    "    ols = ps.spreg.OLS(ul, u)\n",
    "    tag = \"b = %.3f\"%ols.betas[1][0]\n",
    "    ax2.plot(u, ols.predy, c='red', label=tag)\n",
    "    ax2.axvline(0, c='0.5')\n",
    "    ax2.axhline(0, c='0.5')\n",
    "    ax2.legend()\n",
    "    plt.xlabel('u')\n",
    "    plt.ylabel('Wu')\n",
    "    plt.suptitle(\"$\\lambda$ = %.2f\"%lamb)\n",
    "    plt.show()"
   ]
  },
  {
   "cell_type": "code",
   "execution_count": null,
   "metadata": {
    "collapsed": true
   },
   "outputs": [],
   "source": []
  }
 ],
 "metadata": {
  "anaconda-cloud": {},
  "kernelspec": {
   "display_name": "Python 2",
   "language": "python",
   "name": "python2"
  },
  "language_info": {
   "codemirror_mode": {
    "name": "ipython",
    "version": 2
   },
   "file_extension": ".py",
   "mimetype": "text/x-python",
   "name": "python",
   "nbconvert_exporter": "python",
   "pygments_lexer": "ipython2",
   "version": "2.7.12"
  },
  "widgets": {
   "state": {
    "0196758498cf4beb97346aac74748755": {
     "views": []
    },
    "0257eb76047e477491b579132de4d8e4": {
     "views": []
    },
    "0490d44a690640bc8984b31e62acfeea": {
     "views": []
    },
    "068c09bea5504f99affeb85e1bd1e5e2": {
     "views": []
    },
    "071dc6ac440c4a02b2f27feb49e441ff": {
     "views": []
    },
    "0726a0d7f1d04575a438e5e51bec9600": {
     "views": []
    },
    "07c32854fac444b4ac3e0d68dbf44ae7": {
     "views": []
    },
    "093f04d527f249668fe7ec10c79f5f99": {
     "views": []
    },
    "09a476e5746a42c988c35d5e6e22dc1f": {
     "views": []
    },
    "09c3a2fb682e4a29911ef3630dd29d9a": {
     "views": []
    },
    "09cb4054961547c481505698d075d05e": {
     "views": []
    },
    "0b717104e4184345934417b2f7a825fe": {
     "views": []
    },
    "0c4029fa99144882860562ad35f0b977": {
     "views": []
    },
    "0cfe39142ae940f7b5acb9a58c2675e0": {
     "views": []
    },
    "0d13003fc036450fb2b346a0a55b192e": {
     "views": []
    },
    "0d65e0417c7641d19e0123690b1fcb9f": {
     "views": []
    },
    "0e1a9fb87b554a6abe133f10d9c3bc25": {
     "views": []
    },
    "108d2357e3604f848b72cffa3b89f67b": {
     "views": []
    },
    "113a45ae9c1b470a9e06efa1af2b8f8f": {
     "views": []
    },
    "123e9b45b7b540b8b7126075bbecdab0": {
     "views": []
    },
    "1397f67dd4b2488cb3827d85c4426f77": {
     "views": []
    },
    "13b0729b752240479055bb325c291b9a": {
     "views": []
    },
    "14ddd7975a8e440fafcf32a1d673c894": {
     "views": []
    },
    "174b683e944f4bcbb90652cae4446854": {
     "views": []
    },
    "17f1e70038ce4005a980796431bef14d": {
     "views": []
    },
    "18567a6b41764c73a830d5ad80ad3ec6": {
     "views": []
    },
    "1923d9ba63364101ad0c5f714f2a086a": {
     "views": []
    },
    "19e3b1b4474143f4b30295629792e679": {
     "views": []
    },
    "1aa62109306347fdb58345f94d03b037": {
     "views": []
    },
    "1ac5680392ca4d4c99fc9b6b146b1839": {
     "views": []
    },
    "1b96c75cff4749358fb1c59b9efc8cb2": {
     "views": []
    },
    "1c342c3706b24b4eb2036aa80bc65723": {
     "views": []
    },
    "1cf98f21636d4b3a9dd53c4fa2dc0a84": {
     "views": []
    },
    "1e1526a580d64e16bb32ae6b0685486d": {
     "views": []
    },
    "1f9902d913e24ae3b5b58ea88ae32658": {
     "views": []
    },
    "20576886f35e4906baf66531e23c6ad4": {
     "views": []
    },
    "205dea2162824a4ab2f3a78230491195": {
     "views": []
    },
    "207dc06b7a834b2fb637bd02cb2229af": {
     "views": []
    },
    "20beb24f190b44a3be47048e8448c0e7": {
     "views": []
    },
    "21bff19ceecf4a8c82f0c6caa0670f7c": {
     "views": []
    },
    "231381590a4043929d64672c6b19a8bd": {
     "views": []
    },
    "244d92967eed4c6b9f19c383b912d6fa": {
     "views": []
    },
    "2451c788a86542ba8278725bb3930137": {
     "views": []
    },
    "24b84e43a40b4c039607c883fc97688f": {
     "views": []
    },
    "2a8b0bdd996a482490b0ce54c87c344d": {
     "views": []
    },
    "2a954fb560a94382bd60c193b8791869": {
     "views": []
    },
    "2a994e8026634dcb809f394e9fe22b44": {
     "views": []
    },
    "2aec0ab30b0f499b879633a25434b4c1": {
     "views": []
    },
    "2b8e00fdea7f473c93c73373f8f695ef": {
     "views": []
    },
    "2bd0234d4e31493285abcb1edc5eb7d6": {
     "views": []
    },
    "2bd9d98c66fc45a09a2a90925e0fadff": {
     "views": []
    },
    "2ca1f3e235d345da95497c501f8cbeca": {
     "views": []
    },
    "2e6d9ecbeb0d44d2be54d71dd38cc3a3": {
     "views": []
    },
    "2f76f7a4a04c4459b769c3535db34ff7": {
     "views": []
    },
    "303a10e2ca874e16817614a1cada7646": {
     "views": []
    },
    "318b8e00523d4e059b675c173d757a03": {
     "views": []
    },
    "321bbb8178ce4510a80a10609025d4c1": {
     "views": []
    },
    "324551de1fe149f2b9858cad00a955c7": {
     "views": []
    },
    "32598fc4a16b4bde8bcdb62f618e08cf": {
     "views": []
    },
    "329c5252f8cf411e825ea0d18d2eb0a6": {
     "views": []
    },
    "329cb6152fcc4675bcc463fd8badae0f": {
     "views": []
    },
    "3350fa2abc66409aa8513f3a172931a0": {
     "views": [
      {
       "cell_index": 4
      }
     ]
    },
    "33f6a7670519431680f72e2a7f1c2bb0": {
     "views": []
    },
    "356e39d6f8a646639094ad42a3db8ba7": {
     "views": []
    },
    "36fcc5a7dee14f1b9612049d446a299d": {
     "views": []
    },
    "371d7b43deb247d3ae7cc7b9b897d99c": {
     "views": []
    },
    "3858cdf894e44bcfbc67a87468483ca0": {
     "views": []
    },
    "3963ae77c4fb4ab09519b06d93e0af46": {
     "views": []
    },
    "39828964c9864ac8a41609f8b3092c79": {
     "views": []
    },
    "39946305ab7a41af940682f9f1ef1624": {
     "views": []
    },
    "399670537c644f0abff5f3328a8101a2": {
     "views": []
    },
    "399ddb8ce0cf429f8b643994757f6e14": {
     "views": []
    },
    "3a851a045b9f48bab8110d22c413d813": {
     "views": []
    },
    "3abddbcc614d495284c173bd8d82f1ff": {
     "views": []
    },
    "3b0b84834c1347c49cfbd6a4fa89aa0b": {
     "views": []
    },
    "3b2095072bb941ca8e3c660f39d119b0": {
     "views": []
    },
    "3ba6b89f22c94728ba0dea574a2e58ff": {
     "views": []
    },
    "3c0af60a45974ecdb886ee2bc1958310": {
     "views": []
    },
    "3c3bfb2b62bf4b899646026c36b347da": {
     "views": []
    },
    "3df9d2fdb6d34c86bed243602ffdf16b": {
     "views": []
    },
    "3f520c2c544d4dc49cf7e63c84ccd020": {
     "views": []
    },
    "3feeccb1d60245a88f184bdd002a511e": {
     "views": []
    },
    "41d7a47572bb4720b359b0c00f09838a": {
     "views": []
    },
    "43185cebb0154eefb0de591f7c6ffe0d": {
     "views": []
    },
    "433ff2fe1743461cbcce1b2938cc1288": {
     "views": []
    },
    "439d72f6dfcc4f8a80c48ba286a7c89d": {
     "views": []
    },
    "43c9adebf7a7473ca9ca58887a841c3a": {
     "views": []
    },
    "44a512942f33409d85a2baa929dfdee2": {
     "views": []
    },
    "44abe8c93f1a4bcc853e1bf9d0d446d4": {
     "views": []
    },
    "461843a9f73d48bab6de2e494a596d13": {
     "views": []
    },
    "4629f98d775c420e8c2ab2f2bf96fd9b": {
     "views": []
    },
    "46a229570aab4b0db1dc9e39f3e5408e": {
     "views": []
    },
    "4799a349ff694f6da9a7fa76848c69e8": {
     "views": []
    },
    "481ab10e062a49b29cbec841082911f2": {
     "views": []
    },
    "482219d26d7e475f9db3e2a66f056344": {
     "views": []
    },
    "48a3bb5a75e644dbb693016fd65e25b3": {
     "views": []
    },
    "48f39da2fc194a0c8ab01916ba9a231e": {
     "views": []
    },
    "4903bca960644a2e993885adf4fcbf63": {
     "views": []
    },
    "4904c1c6bf4c44199d8209613254127d": {
     "views": []
    },
    "4972fb2bd5c64d50912dcc289c87ee8e": {
     "views": []
    },
    "49fde4e690574c968000fdeaed558fc7": {
     "views": []
    },
    "4a1639dd756e4b639496326a532174db": {
     "views": []
    },
    "4a600dd02b384c16a6581dbebfdaf501": {
     "views": []
    },
    "4a84b87b075045b4a4cf657a186d9886": {
     "views": []
    },
    "4c6a2b131e904e2ca162d288750e31c0": {
     "views": []
    },
    "4cb4d5f4ccde41b3a73f03d0a70bb8da": {
     "views": []
    },
    "4cef9033016049519a4bd17fbf479673": {
     "views": []
    },
    "4e0e2225c290423bbc813204a70d57a8": {
     "views": []
    },
    "5034255825c74ca5b8ef27066b2f7f16": {
     "views": []
    },
    "50bf38d2ba004d30bd8524196aaa74fb": {
     "views": []
    },
    "5150fb6d0bcd42b4aaffbd6ca00bb01f": {
     "views": []
    },
    "51a4f8d030d4487da7fcb3ac41b6fd75": {
     "views": []
    },
    "52a4dfc6dc364d80851db3c15a7422b6": {
     "views": []
    },
    "55a67dcf444a45f4a5deaa1134790628": {
     "views": []
    },
    "56e87b4d510c4d9db46ea2bdfed0c0ed": {
     "views": []
    },
    "593a6660b6b64cf78cc285328acd9ced": {
     "views": []
    },
    "5a6819703c484d9898b761de6f41803e": {
     "views": []
    },
    "5b1db126a5874324b7e029aec93b964e": {
     "views": []
    },
    "5b3691a0b8e643b5954673470e3b24ec": {
     "views": []
    },
    "5b92730889554b8cb45fcf25e23d0c31": {
     "views": []
    },
    "5bb29b54c9bd4b6580aeca8aebd70763": {
     "views": []
    },
    "5c9c84394b844b64b7b12bf88b7c7924": {
     "views": []
    },
    "5d853a56fa8c4241a150d508e4540d14": {
     "views": []
    },
    "5d9287a7322445f59cc3f24b9130772b": {
     "views": []
    },
    "5d93472fc08f44189af5c2b492d3378b": {
     "views": []
    },
    "5eb20e84da96451aadafb1ca19863fb8": {
     "views": []
    },
    "5f4828e0c7144a498943a486aed5b79d": {
     "views": []
    },
    "605c75c9074144d0b93636a36bc17fcd": {
     "views": []
    },
    "606ee329b52543078f6bd4383b163364": {
     "views": []
    },
    "609788e2242f4d818be28b1c5b4eb160": {
     "views": []
    },
    "60cbea8039f743618abcd5ffa6e58a00": {
     "views": []
    },
    "61118bedaa734bd7af1908be1781eb3e": {
     "views": []
    },
    "6265bbd95ce845c59c051c2729cec0aa": {
     "views": []
    },
    "6298f7464bb74b9b84e9f2f29ef2bc87": {
     "views": []
    },
    "62ba61ccc5f346b3ac0f56a707ebef45": {
     "views": []
    },
    "638f3ecbc5c041579c5db72b6c62cd5b": {
     "views": []
    },
    "64b7ccaf9ac64b86b9f8cbef312e70af": {
     "views": []
    },
    "65ce4899b0df47deadcbe09e6d615825": {
     "views": []
    },
    "66a8d17224b84388977730891e59e365": {
     "views": []
    },
    "66d328af4c874a2394fc397d0abe9b5f": {
     "views": []
    },
    "679bd6baef684ddd8f20eb081333c1ec": {
     "views": []
    },
    "67d348d593ba448cafdc623ea8e4b4ff": {
     "views": []
    },
    "687cc7f354ad4bcfa82d87fb6d600c3a": {
     "views": []
    },
    "68e7eb1d966d4aab95ec5bf487f67be8": {
     "views": []
    },
    "69546fb94b734ed7ac17c0cd23095df6": {
     "views": []
    },
    "6a0d2cd452c8447e807a7791344f4f3c": {
     "views": []
    },
    "6a9df68924f44b7bb9fda609b3c420ad": {
     "views": []
    },
    "6b32c4ea7edf4038ac23955d9210e93d": {
     "views": []
    },
    "6b4fc87cadab4d2ab389f9d64dbe8702": {
     "views": []
    },
    "6ce5753cfd0d4bbdb236e40691942e6b": {
     "views": []
    },
    "6d1af0c6109e4b2aaf2b7ec8dcd6628f": {
     "views": []
    },
    "6d684a90534c4a0a9398722235977623": {
     "views": []
    },
    "6de90a4787a34d3783d19dd5a56f075a": {
     "views": []
    },
    "6debe51b7a724b3a92249e67fe3f89ac": {
     "views": []
    },
    "6e10a4347fe743be8fb8a69f0e80fe5a": {
     "views": []
    },
    "6faee92865d047b98930a3082d75d02b": {
     "views": []
    },
    "6fb2bcc44b154061adf035dd4c35b4ec": {
     "views": []
    },
    "6fc437e8f6e445d7a6f47fa4b17f3507": {
     "views": []
    },
    "6fee47676e3a48b5860d513179150f72": {
     "views": []
    },
    "701ab2efe1d245279d414daea63ac007": {
     "views": []
    },
    "71690c54c54b4453861a8d68f7d02b38": {
     "views": []
    },
    "719a6258fd474bb2a6eedb229bb72d03": {
     "views": []
    },
    "74bcd805a4fa4405b2b413ba3c441a1d": {
     "views": []
    },
    "76d607bc55264c55a26b46d2b7f4ae1f": {
     "views": []
    },
    "774ec32baff7499fb38c47d9710cce78": {
     "views": []
    },
    "777056244ecf4b14a1bc0ef9745891bd": {
     "views": []
    },
    "77c7d6e755664f6794924925d1ac5a48": {
     "views": []
    },
    "78a4b4ac80d54667b7c28d845ae319e6": {
     "views": []
    },
    "7930e9d278cf41929a6f5f021ee8ac8b": {
     "views": []
    },
    "796909f2f0ed4a8ab88f9bc67a166813": {
     "views": []
    },
    "7ac344b7602a4125aa6ace8e3c89290b": {
     "views": []
    },
    "7b8f8032940e46f7bbe2581f7262bbbe": {
     "views": []
    },
    "7bc82ea6843d48838c1832d161b70117": {
     "views": []
    },
    "7ea7495da25a430997017c0b8bc18a2c": {
     "views": []
    },
    "7ecdac438f3f4649a14c735710677f94": {
     "views": []
    },
    "7f2e165e43ed497fb791931525fbbf61": {
     "views": []
    },
    "7f91a295bd814914b2ffea34f2631ee2": {
     "views": []
    },
    "800b8b8e54f246a5a356f865a148e6a8": {
     "views": []
    },
    "80b32d44421c45d4a9b18779d94d8c15": {
     "views": []
    },
    "81c7add6032e4190905039b5c25855f9": {
     "views": []
    },
    "83053b3dc6ec4467ad487a91b194eecb": {
     "views": []
    },
    "86a2c32586cb472b8ee77d8797e7d326": {
     "views": []
    },
    "87bb065442554c4d94133dc5b687a7bd": {
     "views": []
    },
    "8981c47ce4dd4f18afbd95128f8a50ca": {
     "views": []
    },
    "898fee7c63134cb49108f73b66bfc309": {
     "views": []
    },
    "89c6ee4376544624ac1e1b03fb796401": {
     "views": []
    },
    "8b97790e70e3457cb75b2df41aad0ed3": {
     "views": [
      {
       "cell_index": 2
      }
     ]
    },
    "8d6592d0ab024b1a93febe4278d70bbd": {
     "views": []
    },
    "8db9b40f36c84c2fbee481885e3329cd": {
     "views": []
    },
    "8f49b85e60434344a8a3d8d0b5668b4e": {
     "views": []
    },
    "8f526277484047b9be6d733721a6c6c0": {
     "views": []
    },
    "900e749111da41cda1d7f97bbe65f214": {
     "views": []
    },
    "9178012c65d34ceea2b2ef21f545b288": {
     "views": []
    },
    "92ac283aaee64a009ce2850ae8277741": {
     "views": []
    },
    "92c64d3f18b64010a269fee8d27ac862": {
     "views": []
    },
    "93fc4e6cc7af416f9b6fdde9f7f64705": {
     "views": []
    },
    "9470a912a4164709b2b1153d6eb8d5b0": {
     "views": []
    },
    "948a0b5029174f07b2c79f29c2bcbbc3": {
     "views": []
    },
    "948ac45796554db19cb5fe713fb632af": {
     "views": []
    },
    "94b5a2b620dd42bc9b519579e60708a8": {
     "views": []
    },
    "954f9efcf8854ab8a819844bfc65e3ce": {
     "views": []
    },
    "962c2c214de74f2ab8c36c2d9c7cd6b8": {
     "views": []
    },
    "96358f9f0fe74ea295e9412ded569644": {
     "views": []
    },
    "986086a36c81498c9c262b0643b80e0e": {
     "views": []
    },
    "98ac908bbf3347b3be5bda0937aace84": {
     "views": []
    },
    "9aa589c9bd1a4c2fa4df17fef9c94172": {
     "views": []
    },
    "9d1f8732b36a42db82c1d3fad366e6ed": {
     "views": []
    },
    "9e7abd287e0849d289da926de3cd7354": {
     "views": []
    },
    "9f2ae827da5843c3af3e0aa5f691c8db": {
     "views": []
    },
    "9f5d0bc4f56e4beeb03857e1027b98b6": {
     "views": []
    },
    "9fc435d2150840eebeecc430800b22a5": {
     "views": []
    },
    "a053f7b2c65b4740a5b81d60616eede4": {
     "views": []
    },
    "a1793aa9ecd94c44acae8f7e2ed4b7d1": {
     "views": []
    },
    "a1fb1ef7e91d4f27b2d26a823052ca78": {
     "views": []
    },
    "a2c786b3f3e248e18ce6ef02ece6df3e": {
     "views": []
    },
    "a2dc4239e5e145f497331bb33a7dd666": {
     "views": []
    },
    "a3523d46e3bf489eb88ee81a3d5c092f": {
     "views": []
    },
    "a36f13636c9d46c3a3184c781790cb2f": {
     "views": []
    },
    "a3c0e7f190f24936baaaa6c746dddffb": {
     "views": []
    },
    "a7f9c19ee6ce4eaa9dc48eb89144c856": {
     "views": []
    },
    "a7fab3707f504531af76c48843da5081": {
     "views": []
    },
    "a88f14b8bdbe4566b199d32578a52674": {
     "views": []
    },
    "aa02337023ca4b0bae5edef0c05614b9": {
     "views": []
    },
    "aa92cac7052446dab5c902c5bfbe7b5b": {
     "views": []
    },
    "aab57f0fbc7940d68c7850b23eb8ad52": {
     "views": []
    },
    "ac63ca3c968b4ac3a46e8c4a3d739a29": {
     "views": []
    },
    "ac9bf9c7eefc49668f751afc2c5aa465": {
     "views": []
    },
    "ad532442f22b4836840342d596b94839": {
     "views": []
    },
    "ada3f078f3714afa88663be598a0552c": {
     "views": []
    },
    "ae48ad8c1d6e48418b7dae239be532ae": {
     "views": []
    },
    "af4a43c2031d412695750fcdb6c2666a": {
     "views": []
    },
    "b09f318fae5146cfa46deaa7b9e9bd38": {
     "views": []
    },
    "b14eaec752e8485f8ce174b6e24dfbc9": {
     "views": []
    },
    "b1bef2b1cb2d4683a14a7b5859f53a4c": {
     "views": []
    },
    "b1c686c8791b42a7a9d796647ecb0d10": {
     "views": []
    },
    "b25cc3b8126944dab7b95c3773919f1a": {
     "views": []
    },
    "b3de0c48b9bd41739f388dd0923164bd": {
     "views": []
    },
    "b49121dc30de4effb1444ad6f82ac93a": {
     "views": []
    },
    "b5ce4781be524ee2bd7268cc989a205f": {
     "views": []
    },
    "b6830dd5debb44869325da307a839a74": {
     "views": []
    },
    "b69faa3f868f4a7191f02bf773040599": {
     "views": []
    },
    "b6a74f88fb7f4c0f8fe042093e2bc426": {
     "views": []
    },
    "b765e9c6ff8f41249f64b47dcf546656": {
     "views": []
    },
    "b858756d359a4cc3be8b60c74cbe4423": {
     "views": []
    },
    "b959c7421d3c4ee688b79a938149352e": {
     "views": []
    },
    "bae52b5af8a14299a2b2aceaa0381d2e": {
     "views": []
    },
    "bcb7d1154db24719a15be62d5b91ded0": {
     "views": []
    },
    "bd5d7d428a654b5186659f21f5505f27": {
     "views": []
    },
    "bdb773058d6541f99aeaf10212ac97bf": {
     "views": []
    },
    "bdf34686381b44f19f94dcebb6989199": {
     "views": []
    },
    "c0973876f4e54bc9b846bdb6dbaa1d5a": {
     "views": [
      {
       "cell_index": 3
      }
     ]
    },
    "c39241af95ca44e3ba9d7414c2c37163": {
     "views": []
    },
    "c46f538d823748c68b55be1dcd253b5e": {
     "views": []
    },
    "c46f6aeeb78f463b85000e3f43694c5c": {
     "views": []
    },
    "c47d3e2db45d433dbaa68bd5b88e2a5a": {
     "views": []
    },
    "c4e40220e2834198b3a2e64816513474": {
     "views": []
    },
    "c56e6b2bd13146c0b362ee8f2c5af051": {
     "views": []
    },
    "c57239474dfe49719e16c6b0168241df": {
     "views": []
    },
    "c5994c6a71af4201b3cf2ee9a881c6e8": {
     "views": []
    },
    "c702eb403fe4475e8bd7e70b911e9eb1": {
     "views": []
    },
    "c75802467e524ad3b4818183f407d095": {
     "views": []
    },
    "c7a2e7cbb3504343a85a46bbf7f00b55": {
     "views": []
    },
    "c7b055305f4f48179f5f7240cf47ec3c": {
     "views": []
    },
    "c7f00b3d7ec142b89ec38736fbded88a": {
     "views": []
    },
    "c87f387aa28c4a06a1f7f568f8dc2020": {
     "views": []
    },
    "c91be87955154dfc933880c6e93efe38": {
     "views": []
    },
    "c97107a32f2c46dfb8fd931c8a7a2df3": {
     "views": []
    },
    "c9f58327de8f4f8a86e4c2b9bbf3b484": {
     "views": []
    },
    "c9f85add27384fa1bf01d3d75fa7b755": {
     "views": []
    },
    "ca0529c0c20b42d4bc9cd689186c41d9": {
     "views": []
    },
    "cac64fb28c3543c899f0dbb1e57003cc": {
     "views": []
    },
    "cb0dce609b8e48dc97d0df311bbe66b1": {
     "views": []
    },
    "cc7184bb1161489a959c6a925ab38bf2": {
     "views": []
    },
    "ced1f97d79624a558a7bbe744a2e6ce1": {
     "views": []
    },
    "cf8ad1b1bfb149cdafd8e81131d2741b": {
     "views": []
    },
    "d0b998cd0b424b2db52d79d6064b5e23": {
     "views": []
    },
    "d0e6389cedd942028c4f8707f06af0a2": {
     "views": []
    },
    "d1c05331544e42ebbaecc68e341217cd": {
     "views": []
    },
    "d1c7c2dc811548a2a67bd10b94b59a58": {
     "views": []
    },
    "d23c80deffee4a0888bf0a360bd864ec": {
     "views": []
    },
    "d3395ca8309c4490a0832ec40e0268e9": {
     "views": []
    },
    "d3ec0b6a91074a8f9534f42782f3f9b4": {
     "views": []
    },
    "d49647fa6d4347f688eab255ea93c548": {
     "views": []
    },
    "d4d2f473433248aa8bac61d9c5a01c95": {
     "views": []
    },
    "d51180e4fe604b8f8be4e32dc56567aa": {
     "views": []
    },
    "d7a1e6ed084b475a99642847089a7b2c": {
     "views": []
    },
    "d920b514fad64db1be4f07cc4b3d191c": {
     "views": []
    },
    "d95f93b719214efdb9008791f7c09cd7": {
     "views": []
    },
    "da3660063c0f43c09434a1530b17ceb1": {
     "views": []
    },
    "dae351dd5ee04956a3dac330f388bb5e": {
     "views": []
    },
    "db120a66d3c34e4f9c376b30bf45ccd1": {
     "views": []
    },
    "dd197668d5424dea98b5862d0b3ec621": {
     "views": []
    },
    "dde09a48f3a34f22a3f3a281d296b321": {
     "views": []
    },
    "de29029974a74d0787c97c0c61d0df7c": {
     "views": []
    },
    "df4b0d2966c8472a81017a909efe9951": {
     "views": []
    },
    "e1171fd182864aaeaaaff0b431def129": {
     "views": []
    },
    "e3d0de33870e41f1b0a98a74f4fb81ae": {
     "views": []
    },
    "e67f0d93cb2f4cc2b3bba06151d83853": {
     "views": []
    },
    "e7f543df60594fc5bfbc4d6be39ac278": {
     "views": []
    },
    "e83893a2bec040cbb91743d747f3b340": {
     "views": []
    },
    "eab277364d83400b83c50244c3a8a865": {
     "views": []
    },
    "ed093bb0589e4786b4e533212c328154": {
     "views": []
    },
    "ed242e66714c40659045ad47203bd0ad": {
     "views": []
    },
    "f0a58e647bb549d782ec277708ba5bad": {
     "views": []
    },
    "f0d9074ab6ea4981a015977c942a66d6": {
     "views": [
      {
       "cell_index": 8
      }
     ]
    },
    "f0fb8ebaabeb4f279c90872213a1ad82": {
     "views": []
    },
    "f12c9e4c234d47a98b89aa0ef03a2099": {
     "views": []
    },
    "f335b600e75f4205a84816c5b1075b38": {
     "views": []
    },
    "f371eb0656394a8985b9ff8e354d5d33": {
     "views": []
    },
    "f43acdd425d944d697deff1fac3b1f32": {
     "views": []
    },
    "f4ad744de54d4e5c823e9b92fc1e4b95": {
     "views": []
    },
    "f4d363e1ec1249c29b7f4bbf11976d63": {
     "views": []
    },
    "f86439fc327b44d2ac115ef369927738": {
     "views": []
    },
    "fab54549175543f898304c61edb9289e": {
     "views": []
    },
    "fae54b5792304a72ae5b852e77e73d60": {
     "views": []
    },
    "fc9c2ed29bb24823808f0160a09f4d1d": {
     "views": []
    },
    "fd212f49562d41f390de322300db4115": {
     "views": []
    },
    "fde68a85876a42128e62d276aa3be7f8": {
     "views": []
    }
   },
   "version": "1.1.2"
  }
 },
 "nbformat": 4,
 "nbformat_minor": 0
}
