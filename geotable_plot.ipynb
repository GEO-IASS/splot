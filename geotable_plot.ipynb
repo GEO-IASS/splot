{
 "cells": [
  {
   "cell_type": "markdown",
   "metadata": {},
   "source": [
    "# Plotting from geotables"
   ]
  },
  {
   "cell_type": "code",
   "execution_count": 11,
   "metadata": {
    "collapsed": true
   },
   "outputs": [],
   "source": [
    "%matplotlib inline"
   ]
  },
  {
   "cell_type": "code",
   "execution_count": 12,
   "metadata": {
    "collapsed": false
   },
   "outputs": [],
   "source": [
    "import pysal as ps\n",
    "import numpy as np\n",
    "from pysal.contrib import pdio\n",
    "from pysal.contrib.viz import mapping as maps\n",
    "import matplotlib.pyplot as plt\n",
    "import geopandas as gpd\n",
    "import seaborn as sns\n",
    "import pandas as pd"
   ]
  },
  {
   "cell_type": "code",
   "execution_count": 13,
   "metadata": {
    "collapsed": true
   },
   "outputs": [
    {
     "data": {
      "text/plain": [
       "['10740',\n",
       " 'arcgis',\n",
       " 'baltim',\n",
       " 'book',\n",
       " 'burkitt',\n",
       " 'calemp',\n",
       " 'chicago',\n",
       " 'columbus',\n",
       " 'desmith',\n",
       " 'geodanet',\n",
       " 'juvenile',\n",
       " 'Line',\n",
       " 'mexico',\n",
       " 'nat',\n",
       " 'networks',\n",
       " 'newHaven',\n",
       " 'Point',\n",
       " 'Polygon',\n",
       " 'sacramento2',\n",
       " 'sids2',\n",
       " 'snow_maps',\n",
       " 'south',\n",
       " 'stl',\n",
       " 'street_net_pts',\n",
       " 'taz',\n",
       " 'us_income',\n",
       " 'virginia',\n",
       " 'wmat']"
      ]
     },
     "execution_count": 13,
     "metadata": {},
     "output_type": "execute_result"
    }
   ],
   "source": [
    "ps.examples.available()"
   ]
  },
  {
   "cell_type": "code",
   "execution_count": 23,
   "metadata": {
    "collapsed": true
   },
   "outputs": [
    {
     "name": "stdout",
     "output_type": "stream",
     "text": [
      "<class 'pandas.core.frame.DataFrame'>\n",
      "RangeIndex: 49 entries, 0 to 48\n",
      "Data columns (total 21 columns):\n",
      "AREA          49 non-null float64\n",
      "PERIMETER     49 non-null float64\n",
      "COLUMBUS_     49 non-null int64\n",
      "COLUMBUS_I    49 non-null int64\n",
      "POLYID        49 non-null int64\n",
      "NEIG          49 non-null int64\n",
      "HOVAL         49 non-null float64\n",
      "INC           49 non-null float64\n",
      "CRIME         49 non-null float64\n",
      "OPEN          49 non-null float64\n",
      "PLUMB         49 non-null float64\n",
      "DISCBD        49 non-null float64\n",
      "X             49 non-null float64\n",
      "Y             49 non-null float64\n",
      "NSA           49 non-null float64\n",
      "NSB           49 non-null float64\n",
      "EW            49 non-null float64\n",
      "CP            49 non-null float64\n",
      "THOUS         49 non-null float64\n",
      "NEIGNO        49 non-null float64\n",
      "geometry      49 non-null object\n",
      "dtypes: float64(16), int64(4), object(1)\n",
      "memory usage: 8.1+ KB\n"
     ]
    }
   ],
   "source": [
    "db = pdio.read_files(ps.examples.get_path('columbus.shp'))\n",
    "db.info()"
   ]
  },
  {
   "cell_type": "code",
   "execution_count": null,
   "metadata": {
    "collapsed": false
   },
   "outputs": [],
   "source": [
    "type(db.geometry[0])"
   ]
  },
  {
   "cell_type": "markdown",
   "metadata": {},
   "source": [
    "## `matplotlib` interface"
   ]
  },
  {
   "cell_type": "code",
   "execution_count": null,
   "metadata": {
    "collapsed": false
   },
   "outputs": [],
   "source": [
    "colors = [\"windows blue\", \"amber\", \"greyish\", \"faded green\", \"dusty purple\"]\n",
    "pal = sns.xkcd_palette(colors)\n",
    "\n",
    "colors = np.array(pal)[np.random.random_integers(0, high=len(pal)-1, size=db.shape[0])]\n",
    "colors = pd.Series(colors.tolist(), index=db.index)"
   ]
  },
  {
   "cell_type": "code",
   "execution_count": 21,
   "metadata": {
    "collapsed": false
   },
   "outputs": [
    {
     "data": {
      "text/plain": [
       "{'Box_Plot': pysal.esda.mapclassify.Box_Plot,\n",
       " 'Equal_Interval': pysal.esda.mapclassify.Equal_Interval,\n",
       " 'Fisher_Jenks': pysal.esda.mapclassify.Fisher_Jenks,\n",
       " 'Fisher_Jenks_Sampled': pysal.esda.mapclassify.Fisher_Jenks_Sampled,\n",
       " 'HeadTail_Breaks': pysal.esda.mapclassify.HeadTail_Breaks,\n",
       " 'Jenks_Caspall': pysal.esda.mapclassify.Jenks_Caspall,\n",
       " 'Jenks_Caspall_Forced': pysal.esda.mapclassify.Jenks_Caspall_Forced,\n",
       " 'Jenks_Caspall_Sampled': pysal.esda.mapclassify.Jenks_Caspall_Sampled,\n",
       " 'K_classifiers': pysal.esda.mapclassify.K_classifiers,\n",
       " 'Map_Classifier': pysal.esda.mapclassify.Map_Classifier,\n",
       " 'Max_P_Classifier': pysal.esda.mapclassify.Max_P_Classifier,\n",
       " 'Maximum_Breaks': pysal.esda.mapclassify.Maximum_Breaks,\n",
       " 'Natural_Breaks': pysal.esda.mapclassify.Natural_Breaks,\n",
       " 'Percentiles': pysal.esda.mapclassify.Percentiles,\n",
       " 'Quantiles': pysal.esda.mapclassify.Quantiles,\n",
       " 'Std_Mean': pysal.esda.mapclassify.Std_Mean,\n",
       " 'User_Defined': pysal.esda.mapclassify.User_Defined}"
      ]
     },
     "execution_count": 21,
     "metadata": {},
     "output_type": "execute_result"
    }
   ],
   "source": [
    "d"
   ]
  },
  {
   "cell_type": "code",
   "execution_count": 56,
   "metadata": {
    "collapsed": false
   },
   "outputs": [
    {
     "data": {
      "image/png": "[encoded data removed]",
      "text/plain": [
       "<matplotlib.figure.Figure at 0x1269b4e90>"
      ]
     },
     "metadata": {},
     "output_type": "display_data"
    }
   ],
   "source": [
    "pltt = sns.color_palette('viridis', 6)\n",
    "sns.palplot(pltt)"
   ]
  },
  {
   "cell_type": "code",
   "execution_count": 57,
   "metadata": {
    "collapsed": false
   },
   "outputs": [
    {
     "data": {
      "text/plain": [
       "0    (0.288921, 0.758394, 0.428426)\n",
       "1    (0.122312, 0.633153, 0.530398)\n",
       "2       (0.153364, 0.497, 0.557724)\n",
       "3       (0.153364, 0.497, 0.557724)\n",
       "4       (0.153364, 0.497, 0.557724)\n",
       "dtype: object"
      ]
     },
     "execution_count": 57,
     "metadata": {},
     "output_type": "execute_result"
    }
   ],
   "source": [
    "reload(maps);\n",
    "y = db['HOVAL']\n",
    "fj = maps.value_classifier(y, 'percentiles')\n",
    "fj = fj.map({i:j for i,j in enumerate(pltt)})\n",
    "fj.head()"
   ]
  },
  {
   "cell_type": "code",
   "execution_count": 58,
   "metadata": {
    "collapsed": false
   },
   "outputs": [
    {
     "data": {
      "image/png": "[encoded data removed]",
      "text/plain": [
       "<matplotlib.figure.Figure at 0x1268f6850>"
      ]
     },
     "metadata": {},
     "output_type": "display_data"
    }
   ],
   "source": [
    "reload(maps);\n",
    "\n",
    "maps.plot_geocol_mpl(db.loc[:, 'geometry'], facecolor=fj)"
   ]
  },
  {
   "cell_type": "markdown",
   "metadata": {},
   "source": [
    "## `bokeh` interface"
   ]
  },
  {
   "cell_type": "code",
   "execution_count": 4,
   "metadata": {
    "collapsed": false
   },
   "outputs": [
    {
     "data": {
      "text/html": [
       "\n",
       "    <div class=\"bk-root\">\n",
       "        <a href=\"http://bokeh.pydata.org\" target=\"_blank\" class=\"bk-logo bk-logo-small bk-logo-notebook\"></a>\n",
       "        <span id=\"2101cff1-e8bd-4a63-b284-6a2b684504a4\">Loading BokehJS ...</span>\n",
       "    </div>"
      ]
     },
     "metadata": {},
     "output_type": "display_data"
    },
    {
     "data": {
      "application/javascript": [
       "\n",
       "(function(global) {\n",
       "  function now() {\n",
       "    return new Date();\n",
       "  }\n",
       "\n",
       "  if (typeof (window._bokeh_onload_callbacks) === \"undefined\") {\n",
       "    window._bokeh_onload_callbacks = [];\n",
       "  }\n",
       "\n",
       "  function run_callbacks() {\n",
       "    window._bokeh_onload_callbacks.forEach(function(callback) { callback() });\n",
       "    delete window._bokeh_onload_callbacks\n",
       "    console.info(\"Bokeh: all callbacks have finished\");\n",
       "  }\n",
       "\n",
       "  function load_libs(js_urls, callback) {\n",
       "    window._bokeh_onload_callbacks.push(callback);\n",
       "    if (window._bokeh_is_loading > 0) {\n",
       "      console.log(\"Bokeh: BokehJS is being loaded, scheduling callback at\", now());\n",
       "      return null;\n",
       "    }\n",
       "    if (js_urls == null || js_urls.length === 0) {\n",
       "      run_callbacks();\n",
       "      return null;\n",
       "    }\n",
       "    console.log(\"Bokeh: BokehJS not loaded, scheduling load and callback at\", now());\n",
       "    window._bokeh_is_loading = js_urls.length;\n",
       "    for (var i = 0; i < js_urls.length; i++) {\n",
       "      var url = js_urls[i];\n",
       "      var s = document.createElement('script');\n",
       "      s.src = url;\n",
       "      s.async = false;\n",
       "      s.onreadystatechange = s.onload = function() {\n",
       "        window._bokeh_is_loading--;\n",
       "        if (window._bokeh_is_loading === 0) {\n",
       "          console.log(\"Bokeh: all BokehJS libraries loaded\");\n",
       "          run_callbacks()\n",
       "        }\n",
       "      };\n",
       "      s.onerror = function() {\n",
       "        console.warn(\"failed to load library \" + url);\n",
       "      };\n",
       "      console.log(\"Bokeh: injecting script tag for BokehJS library: \", url);\n",
       "      document.getElementsByTagName(\"head\")[0].appendChild(s);\n",
       "    }\n",
       "  };\n",
       "\n",
       "  var js_urls = ['https://cdn.pydata.org/bokeh/release/bokeh-0.12.0.min.js', 'https://cdn.pydata.org/bokeh/release/bokeh-widgets-0.12.0.min.js', 'https://cdn.pydata.org/bokeh/release/bokeh-compiler-0.12.0.min.js'];\n",
       "\n",
       "  var inline_js = [\n",
       "    function(Bokeh) {\n",
       "      Bokeh.set_log_level(\"info\");\n",
       "    },\n",
       "    \n",
       "    function(Bokeh) {\n",
       "      Bokeh.$(\"#2101cff1-e8bd-4a63-b284-6a2b684504a4\").text(\"BokehJS successfully loaded\");\n",
       "    },\n",
       "    function(Bokeh) {\n",
       "      console.log(\"Bokeh: injecting CSS: https://cdn.pydata.org/bokeh/release/bokeh-0.12.0.min.css\");\n",
       "      Bokeh.embed.inject_css(\"https://cdn.pydata.org/bokeh/release/bokeh-0.12.0.min.css\");\n",
       "      console.log(\"Bokeh: injecting CSS: https://cdn.pydata.org/bokeh/release/bokeh-widgets-0.12.0.min.css\");\n",
       "      Bokeh.embed.inject_css(\"https://cdn.pydata.org/bokeh/release/bokeh-widgets-0.12.0.min.css\");\n",
       "    }\n",
       "  ];\n",
       "\n",
       "  function run_inline_js() {\n",
       "    for (var i = 0; i < inline_js.length; i++) {\n",
       "      inline_js[i](window.Bokeh);\n",
       "    }\n",
       "  }\n",
       "\n",
       "  if (window._bokeh_is_loading === 0) {\n",
       "    console.log(\"Bokeh: BokehJS loaded, going straight to plotting\");\n",
       "    run_inline_js();\n",
       "  } else {\n",
       "    load_libs(js_urls, function() {\n",
       "      console.log(\"Bokeh: BokehJS plotting callback run at\", now());\n",
       "      run_inline_js();\n",
       "    });\n",
       "  }\n",
       "}(this));"
      ]
     },
     "metadata": {},
     "output_type": "display_data"
    }
   ],
   "source": [
    "from bokeh.models import HoverTool\n",
    "from bokeh.palettes import Viridis6\n",
    "from bokeh.plotting import figure, show, output_file, output_notebook, ColumnDataSource\n",
    "from bokeh.sampledata.us_counties import data as counties\n",
    "from bokeh.sampledata.unemployment import data as unemployment\n",
    "\n",
    "output_notebook()"
   ]
  },
  {
   "cell_type": "code",
   "execution_count": 10,
   "metadata": {
    "collapsed": true
   },
   "outputs": [
    {
     "data": {
      "text/html": [
       "\n",
       "\n",
       "    <div class=\"bk-root\">\n",
       "        <div class=\"plotdiv\" id=\"bb55dec0-2400-4ebf-8b95-9b19fb301de3\"></div>\n",
       "    </div>\n",
       "<script type=\"text/javascript\">\n",
       "  \n",
       "  (function(global) {\n",
       "    function now() {\n",
       "      return new Date();\n",
       "    }\n",
       "  \n",
       "    if (typeof (window._bokeh_onload_callbacks) === \"undefined\") {\n",
       "      window._bokeh_onload_callbacks = [];\n",
       "    }\n",
       "  \n",
       "    function run_callbacks() {\n",
       "      window._bokeh_onload_callbacks.forEach(function(callback) { callback() });\n",
       "      delete window._bokeh_onload_callbacks\n",
       "      console.info(\"Bokeh: all callbacks have finished\");\n",
       "    }\n",
       "  \n",
       "    function load_libs(js_urls, callback) {\n",
       "      window._bokeh_onload_callbacks.push(callback);\n",
       "      if (window._bokeh_is_loading > 0) {\n",
       "        console.log(\"Bokeh: BokehJS is being loaded, scheduling callback at\", now());\n",
       "        return null;\n",
       "      }\n",
       "      if (js_urls == null || js_urls.length === 0) {\n",
       "        run_callbacks();\n",
       "        return null;\n",
       "      }\n",
       "      console.log(\"Bokeh: BokehJS not loaded, scheduling load and callback at\", now());\n",
       "      window._bokeh_is_loading = js_urls.length;\n",
       "      for (var i = 0; i < js_urls.length; i++) {\n",
       "        var url = js_urls[i];\n",
       "        var s = document.createElement('script');\n",
       "        s.src = url;\n",
       "        s.async = false;\n",
       "        s.onreadystatechange = s.onload = function() {\n",
       "          window._bokeh_is_loading--;\n",
       "          if (window._bokeh_is_loading === 0) {\n",
       "            console.log(\"Bokeh: all BokehJS libraries loaded\");\n",
       "            run_callbacks()\n",
       "          }\n",
       "        };\n",
       "        s.onerror = function() {\n",
       "          console.warn(\"failed to load library \" + url);\n",
       "        };\n",
       "        console.log(\"Bokeh: injecting script tag for BokehJS library: \", url);\n",
       "        document.getElementsByTagName(\"head\")[0].appendChild(s);\n",
       "      }\n",
       "    };var element = document.getElementById(\"bb55dec0-2400-4ebf-8b95-9b19fb301de3\");\n",
       "    if (element == null) {\n",
       "      console.log(\"Bokeh: ERROR: autoload.js configured with elementid 'bb55dec0-2400-4ebf-8b95-9b19fb301de3' but no matching script tag was found. \")\n",
       "      return false;\n",
       "    }\n",
       "  \n",
       "    var js_urls = [];\n",
       "  \n",
       "    var inline_js = [\n",
       "      function(Bokeh) {\n",
       "        Bokeh.$(function() {\n",
       "            var docs_json = {\"c0ba4d95-38f2-4ce9-844e-273349f93104\":{\"roots\":{\"references\":[{\"attributes\":{\"fill_color\":{\"value\":\"#4D4D4D\"},\"line_color\":{\"value\":\"#4D4D4D\"},\"line_width\":{\"value\":0.2},\"size\":{\"units\":\"screen\",\"value\":10},\"x\":{\"field\":\"x\"},\"y\":{\"field\":\"y\"}},\"id\":\"d75a078e-8999-495e-a33f-3be78da5805b\",\"type\":\"Circle\"},{\"attributes\":{\"plot\":{\"id\":\"d7940204-367b-4931-9292-31dd6524627b\",\"subtype\":\"Figure\",\"type\":\"Plot\"}},\"id\":\"f0bd1e05-4dd0-4e6a-9890-ed6715ea126d\",\"type\":\"PanTool\"},{\"attributes\":{\"overlay\":{\"id\":\"efacc0a2-7281-45ab-84d1-5603421ab7ab\",\"type\":\"BoxAnnotation\"},\"plot\":{\"id\":\"d7940204-367b-4931-9292-31dd6524627b\",\"subtype\":\"Figure\",\"type\":\"Plot\"}},\"id\":\"d8e6a607-b4bf-4822-86fb-4d6efd526186\",\"type\":\"BoxZoomTool\"},{\"attributes\":{\"active_drag\":\"auto\",\"active_scroll\":\"auto\",\"active_tap\":\"auto\",\"tools\":[{\"id\":\"f0bd1e05-4dd0-4e6a-9890-ed6715ea126d\",\"type\":\"PanTool\"},{\"id\":\"d968319a-403d-4919-9d96-3a93b3438d95\",\"type\":\"WheelZoomTool\"},{\"id\":\"d8e6a607-b4bf-4822-86fb-4d6efd526186\",\"type\":\"BoxZoomTool\"},{\"id\":\"a328b0be-6766-4c56-9cf7-3e828f47f86e\",\"type\":\"ResetTool\"},{\"id\":\"4f544654-01ab-430c-9ff7-f67e66b4d350\",\"type\":\"SaveTool\"},{\"id\":\"1d3543a4-8a57-48a9-8b4a-a3c7af34dd01\",\"type\":\"HoverTool\"}]},\"id\":\"24624ea5-3002-428e-9557-94b280f61618\",\"type\":\"Toolbar\"},{\"attributes\":{\"data_source\":{\"id\":\"3fb1c539-153e-49a0-97b9-0ad2505040d2\",\"type\":\"ColumnDataSource\"},\"glyph\":{\"id\":\"d75a078e-8999-495e-a33f-3be78da5805b\",\"type\":\"Circle\"},\"hover_glyph\":null,\"nonselection_glyph\":{\"id\":\"3762198a-380b-42eb-a9c1-7a81e62646ff\",\"type\":\"Circle\"},\"selection_glyph\":null},\"id\":\"bf384e52-a079-4358-9904-f2b29a8fedac\",\"type\":\"GlyphRenderer\"},{\"attributes\":{\"dimension\":1,\"grid_line_color\":{\"value\":null},\"plot\":{\"id\":\"d7940204-367b-4931-9292-31dd6524627b\",\"subtype\":\"Figure\",\"type\":\"Plot\"},\"ticker\":{\"id\":\"a5d28a35-678a-4daa-be50-85728a228f14\",\"type\":\"BasicTicker\"}},\"id\":\"a13da40f-66ff-4af8-bbee-691e8a48959f\",\"type\":\"Grid\"},{\"attributes\":{},\"id\":\"a5d28a35-678a-4daa-be50-85728a228f14\",\"type\":\"BasicTicker\"},{\"attributes\":{\"callback\":null},\"id\":\"2b02c3ed-02f5-4852-b1be-27f8a4c7e1cc\",\"type\":\"DataRange1d\"},{\"attributes\":{},\"id\":\"5cef0a3a-ee23-4cf9-b3a0-c628f1d07ad4\",\"type\":\"ToolEvents\"},{\"attributes\":{\"plot\":{\"id\":\"d7940204-367b-4931-9292-31dd6524627b\",\"subtype\":\"Figure\",\"type\":\"Plot\"}},\"id\":\"4f544654-01ab-430c-9ff7-f67e66b4d350\",\"type\":\"SaveTool\"},{\"attributes\":{\"fill_alpha\":{\"value\":0.1},\"fill_color\":{\"value\":\"#1f77b4\"},\"line_alpha\":{\"value\":0.1},\"line_color\":{\"value\":\"#1f77b4\"},\"line_width\":{\"value\":0.2},\"size\":{\"units\":\"screen\",\"value\":10},\"x\":{\"field\":\"x\"},\"y\":{\"field\":\"y\"}},\"id\":\"3762198a-380b-42eb-a9c1-7a81e62646ff\",\"type\":\"Circle\"},{\"attributes\":{\"callback\":null},\"id\":\"05c9f98c-eb24-4d28-800e-88f3d83979c5\",\"type\":\"DataRange1d\"},{\"attributes\":{\"plot\":null,\"text\":null},\"id\":\"75218d3e-91bb-46df-a1d0-158d917d6c8f\",\"type\":\"Title\"},{\"attributes\":{\"renderers\":[{\"id\":\"cbf726c0-9fb1-4807-a452-23e1ea447c2a\",\"type\":\"Grid\"},{\"id\":\"a13da40f-66ff-4af8-bbee-691e8a48959f\",\"type\":\"Grid\"},{\"id\":\"efacc0a2-7281-45ab-84d1-5603421ab7ab\",\"type\":\"BoxAnnotation\"},{\"id\":\"bf384e52-a079-4358-9904-f2b29a8fedac\",\"type\":\"GlyphRenderer\"}],\"title\":{\"id\":\"75218d3e-91bb-46df-a1d0-158d917d6c8f\",\"type\":\"Title\"},\"tool_events\":{\"id\":\"5cef0a3a-ee23-4cf9-b3a0-c628f1d07ad4\",\"type\":\"ToolEvents\"},\"toolbar\":{\"id\":\"24624ea5-3002-428e-9557-94b280f61618\",\"type\":\"Toolbar\"},\"x_range\":{\"id\":\"05c9f98c-eb24-4d28-800e-88f3d83979c5\",\"type\":\"DataRange1d\"},\"y_range\":{\"id\":\"2b02c3ed-02f5-4852-b1be-27f8a4c7e1cc\",\"type\":\"DataRange1d\"}},\"id\":\"d7940204-367b-4931-9292-31dd6524627b\",\"subtype\":\"Figure\",\"type\":\"Plot\"},{\"attributes\":{\"grid_line_color\":{\"value\":null},\"plot\":{\"id\":\"d7940204-367b-4931-9292-31dd6524627b\",\"subtype\":\"Figure\",\"type\":\"Plot\"},\"ticker\":{\"id\":\"a00aaff8-1e34-4f92-ab1a-31120aee69cf\",\"type\":\"BasicTicker\"}},\"id\":\"cbf726c0-9fb1-4807-a452-23e1ea447c2a\",\"type\":\"Grid\"},{\"attributes\":{\"callback\":null,\"plot\":{\"id\":\"d7940204-367b-4931-9292-31dd6524627b\",\"subtype\":\"Figure\",\"type\":\"Plot\"}},\"id\":\"1d3543a4-8a57-48a9-8b4a-a3c7af34dd01\",\"type\":\"HoverTool\"},{\"attributes\":{\"callback\":null,\"column_names\":[\"y\",\"x\"],\"data\":{\"x\":[727971.9046506971,723904.478403421,727005.7910001768,724897.4836772054,727177.7067112243,725000.8483412723,727151.4367366836,726513.3831577852,725561.2765066428,725068.2439568869,727838.388002865,726493.8378257755,724361.4320034692,728264.6353726494,724025.1728006583,724666.2552638443,724830.336017997,727681.5990314247,724573.8359752476,726618.9609621274,728432.9025942963,727991.6150378572,726322.6996845518,728666.2613501594,727582.6394554648,726146.8622769628,724871.123460044,724646.6412515915,725457.884455611,726191.4973174885,725090.6639341901,726356.0882201772,723594.413436398,728069.621048031,726008.7411307467,725957.8482175283,727701.3615020204,725139.9766984349,728587.2513436262,727243.9394920578,726564.4228527073,726912.0071948037,728146.0026500771,723428.919644741,725354.4774017754,728306.8967259405,724997.171799029,723642.5447111015,727608.974461992,726109.0732141101,725599.1737441366,728137.7169535246,727191.2025507431,725461.9833349753,727173.2747212275,728218.5843418309,725270.193535011,727294.8584557486,726461.3896525559,723588.9022216969,726717.1301887144,728487.7002733129,723368.1219825898,726678.2184947516,723798.6089983834,726938.744450521,728196.8668797537,724469.4368140073,726175.2125193636,728421.1380698876,727712.7656694893,724416.3902058156,723811.4907145395,725421.838014749,723850.2840159342,725079.3900739806,727917.1409396796,727092.9129276397,727569.3277146693,726413.8600178723,727830.6255139643,727937.0752444948,726999.6408750879,728619.0883390271,725901.9110436336,726436.1484792362,725436.6069385108,727186.2368644004,725973.6954971642,724407.5063887681,724078.7305792925,725143.9873458309,723601.1556654323,727792.5089597305,726050.5590099733,725647.9429594032,725007.0238056133,724458.7347865402,727113.4389159136,723728.0422067824,724156.0218000547,724434.045383884,725974.7037136623,725662.1459144435,727333.9063908429,724480.4873712639,727996.3981175767,726290.4684621063,726775.8809719906,726228.8498353766,728574.153646161,725701.2774789175,727814.1696694974,724913.0777522827,724209.8758520113,723951.9108858041,725466.1356775622,723927.6506202533,727931.6234035885,726624.8039939849,727104.6894147926,725673.3680860252,727036.4737674942,723413.6464436091,724348.6826439456,724764.5034149495,726681.4091392094,724739.0059614658,728520.639369622,728472.7041583074,725289.3290539617,724806.2420613149,725075.179555998,725161.3426490265,726560.4138948487,727796.0250819214,725876.4285345096,728513.7273098481,723658.8858585062,727521.0159722996,723846.5358428282,725304.8009037772,728280.2653011937,724805.0757798005,725725.0009883674,723880.1670654656,725397.3280127719,726160.916392627,723908.0021054125,728065.6784788491,726222.8026318268,723793.1325196878,725008.7402602693,725655.8056656742,728082.081254864,725862.2100689403,724947.1988836429,727286.9049194201,726050.9441453028,726967.0308039676,725081.0826996843,726513.3642970993,725858.1913240994,723832.4804802899,725933.6466342418,726265.227147255,728380.09062744,728460.3242128212,728551.6255154297,728232.4083021231,723941.262132156,724320.6769291378,723902.9946187983,728062.061095306,724323.5140794632,728565.5428862935,723791.1185550892,726899.5829663783,728375.0839717708,728140.0563311694,724180.3930061021,727421.3530159584,728631.7744264785,727641.3633659524,726261.8026068814,724510.7087980506,724643.1590742912,725209.6663716527,726391.8878950506,725120.8265249588,726664.0789474003,726291.9783328661,726615.5192961898,725402.1939164347,726569.9145935155,727754.4228512947,724680.163433115,725506.976206314,725561.6416142258,726480.7179885618,723797.6283757829,725955.0673099239,726120.1656790081,726963.8823851944,723475.4734126161,726436.2537560493,723489.8860174495,728134.8462417623,726773.8183154511,727486.1696162482,724783.0047305693,725483.399762219,725636.826446972,727262.9445990974,727967.5434177823,725015.9121290038,725157.6747694119,726913.7223843525,725814.540351433,728343.5183831329,724156.7974922372,727192.6607835847,728316.8993437318,723502.2647682859,725742.2736576431,725294.6395477315,725112.8330279565,725022.2847534526,724432.4213193771,726959.5655576063,726167.0240781559,726798.6765164903,724731.3051065394,726978.5881170497,726158.4798628447,724589.2718536797,724189.5306525354,727909.6306366302,724855.9742627807,723968.9714615011,728465.8287639928,724841.3608604576,728249.0011145318,728589.362401895,725231.8678571156,724669.456940135,726975.1736770887,727973.956989706,725807.1935304239,728379.9161969316,725255.3696918355,726069.6723179215,725138.9267616192,725608.8775141481,726888.3281000505,727417.3494129381,723935.5983098703,725652.5718641287,724891.237138028,727401.232658964,723777.8589194388,724120.6754362398,726744.7419898862,725495.7546899508,726991.3562887063,724926.2617662294,723907.0462596117,725936.0739519328,723996.4681979856,725223.6911960028,728717.5706869062,725707.6102871392,726516.0990323125,726125.4232098119,724087.7872034132,723402.7164144431,726212.2145755682,728574.0077266515,723983.6190052585,727584.8504470207,724615.6533566198,723507.59462661,725046.517016799,727620.649121939,726115.5042519864,723436.4984187637,725077.5341258209,725429.9359124317,728208.9882264711,724648.5207800942,727076.4652523922,725254.617265719,725846.4870951237,723596.2781924239,727203.3863063378,727434.1360785802,726983.3634900525,727850.5954233558,727581.0076366647,728317.4598371496,723975.6129719245,727251.5399811043,727704.0386529197],\"y\":[880774.1594950835,880764.115727445,881238.0860045147,881062.4359897834,879696.8210798393,880193.2645290938,878355.2412165789,877359.8747119001,878847.1430721404,878179.854711487,876597.8098802185,880862.5637456473,881158.2658137514,877238.211792072,876043.3216150547,878267.9712480551,878006.3956159984,879634.7687513878,878331.0980887683,876238.7168215659,876661.5499195058,876921.6254747811,878745.5282454727,877982.2173918703,876294.2119246236,879013.1817561182,876997.2047384011,880905.7524668522,877251.0247023695,877676.8615466737,877216.4307369944,877324.538983498,876049.1736296127,878533.9041198909,877841.2085285466,878165.8973776327,880225.0719513106,878687.6394026298,879437.141315818,878411.2521408615,879886.7784472565,881320.9931678631,877929.0866092913,878619.752366038,879629.3892391856,881253.7161771308,876414.4712609884,876238.8397433136,876715.786740061,879089.8821962946,877762.0229972927,876898.1768923533,877325.7054172633,877567.3128747364,877238.3638979787,877232.0437432651,879633.4699715414,880212.3019428296,876198.3168139427,879106.3323489475,877094.0606441902,875927.4003974857,880447.0560524458,878118.8724909239,878092.4103739068,877985.2312028627,880317.9105931373,877266.2795892527,877446.0424946544,878195.0443309714,880453.2918528202,877946.3972530103,879517.8915947457,879980.2243869274,880387.6799798098,879304.9407557817,880120.5702111969,877866.9070021724,877232.9171936822,879985.1917267385,875925.8421575486,878383.2775068746,878649.3969379716,880658.1410878466,879786.668550653,879832.4422499111,877473.6795716791,880827.1444402491,875941.8131301079,880236.6207214877,876964.2838303394,877686.8669257837,880405.8896352779,877830.7037292054,878938.9202331991,879513.6107339872,876909.1730347272,879762.8979193358,877682.7635267297,876506.7155447034,876551.4263416551,878105.6908527175,876966.0675504296,877091.3681466914,880390.9020105182,879006.9118834562,877114.6395987283,880962.596007257,879737.8653859788,879992.0413531846,878056.2604144359,878585.5624316782,878715.5713729465,880004.5670623878,877731.6127678013,879900.9527890108,879290.068320879,880116.078134698,879072.1412489853,879863.5156934443,877579.9381319799,876845.7000647209,880613.3113102366,879691.9102651839,877061.2027430511,880072.25128975,879780.4269421137,876823.8970566286,877391.5992664652,876364.8184865543,876230.4102080371,878248.5345904508,879779.1719615654,878914.408428507,880845.2767950317,876303.9471143573,879776.3943938612,877608.4397035706,878115.1970266968,877103.5905443099,877836.6230700613,881182.3650206986,880472.4940581038,876689.0386637434,880974.061354033,877519.611241526,876814.2006013001,879619.3876412218,879792.1135633651,876649.3308779814,876702.9506611045,876752.5808532196,877254.7200867429,877192.8424178497,879810.8771276135,879895.8721909497,876651.4300700015,880334.827041677,880102.929030169,876512.7930036327,876812.9962224134,877141.4470172985,881319.8153754221,876351.4890479911,876460.7935627071,879981.1858928886,878980.7712816523,877729.3888666705,879872.8876139342,877856.7878671928,880812.7064849919,879586.5031771597,877342.4218703752,881239.572642803,877066.6658485902,879173.1495193433,876505.7741176635,879816.4977392866,878070.2612394091,879904.387879045,878210.6818545464,876507.1835165541,878836.7832364014,877591.0556072501,881103.2642635653,878830.8474327374,876313.0478695399,877813.092532164,876590.8683507697,875980.8301326426,877672.3208556514,880751.000770671,880450.5582319411,878033.2036149411,877988.0045716903,878723.4780151257,878513.598737902,879597.7550419101,877227.3796622964,876248.0041284442,879449.1945986843,879018.6970184877,880906.3132852538,878868.1294212093,878617.7359263728,878056.7872110802,876540.0675103982,880120.184236537,875955.3152471028,876015.8967785422,879124.4370900284,880126.3630980358,879520.9771991969,876680.0657132345,876532.4591560295,877138.047980666,880796.039365224,876731.3511759195,877934.4565720725,876294.2922527457,881305.0903925988,878258.8427650057,880756.4029259552,876917.3840302881,881207.1689564866,877478.9677040206,879131.6110988199,880873.6093621553,876470.8615670631,879491.7147912771,881140.392112995,878956.7897852118,877456.6492166391,877935.6200394853,879720.0756849637,878232.8915046599,880605.8767610239,879701.3821325602,879393.1395143357,877732.4027636845,878978.9113989167,879978.7196820144,878085.4863481679,876801.7210294708,878112.9332216035,880479.6313128012,879434.9170912431,878859.6643674797,877601.8151673451,877377.8516844958,878472.4775962501,876047.7694859355,877393.0528905151,876896.1972699944,878373.5927013445,880788.7517705387,877983.3671421652,877682.3118659201,877835.6310720833,878264.885867149,879166.5702812605,879690.5592222778,877787.6497036149,878311.6959518569,876869.2989534022,876505.7111633904,881288.4356189177,880720.3947441817,876895.5822167129,877637.3885124817,878947.2745311572,876258.7884353836,878740.2022761278,876165.0201691914,880595.7842519096,875958.0756945548,878307.7459429826,877785.9703168389,881037.5504349296,876635.9739996606,880236.9891730292,878177.5320672211,878246.7383392538,879769.766973084,876063.6179157862,876870.4991439936,876561.3620495528,881033.4229693904,879317.9527048627,878581.9101786793,876555.8000014288,877701.859793878,876323.5455974097,877623.1066002869,876217.4020772879,877066.509293738,878578.5365119041,879467.7770714584,876488.0127798809,879452.8444765623,880823.649285479,880785.1733411439,877296.9681482557]}},\"id\":\"3fb1c539-153e-49a0-97b9-0ad2505040d2\",\"type\":\"ColumnDataSource\"},{\"attributes\":{},\"id\":\"a00aaff8-1e34-4f92-ab1a-31120aee69cf\",\"type\":\"BasicTicker\"},{\"attributes\":{\"plot\":{\"id\":\"d7940204-367b-4931-9292-31dd6524627b\",\"subtype\":\"Figure\",\"type\":\"Plot\"}},\"id\":\"a328b0be-6766-4c56-9cf7-3e828f47f86e\",\"type\":\"ResetTool\"},{\"attributes\":{\"bottom_units\":\"screen\",\"fill_alpha\":{\"value\":0.5},\"fill_color\":{\"value\":\"lightgrey\"},\"left_units\":\"screen\",\"level\":\"overlay\",\"line_alpha\":{\"value\":1.0},\"line_color\":{\"value\":\"black\"},\"line_dash\":[4,4],\"line_width\":{\"value\":2},\"plot\":null,\"render_mode\":\"css\",\"right_units\":\"screen\",\"top_units\":\"screen\"},\"id\":\"efacc0a2-7281-45ab-84d1-5603421ab7ab\",\"type\":\"BoxAnnotation\"},{\"attributes\":{\"plot\":{\"id\":\"d7940204-367b-4931-9292-31dd6524627b\",\"subtype\":\"Figure\",\"type\":\"Plot\"}},\"id\":\"d968319a-403d-4919-9d96-3a93b3438d95\",\"type\":\"WheelZoomTool\"}],\"root_ids\":[\"d7940204-367b-4931-9292-31dd6524627b\"]},\"title\":\"Bokeh Application\",\"version\":\"0.12.0\"}};\n",
       "            var render_items = [{\"docid\":\"c0ba4d95-38f2-4ce9-844e-273349f93104\",\"elementid\":\"bb55dec0-2400-4ebf-8b95-9b19fb301de3\",\"modelid\":\"d7940204-367b-4931-9292-31dd6524627b\",\"notebook_comms_target\":\"bf868f9f-9ddd-4a7f-b420-c31110c80cfa\"}];\n",
       "            \n",
       "            Bokeh.embed.embed_items(docs_json, render_items);\n",
       "        });\n",
       "      },\n",
       "      function(Bokeh) {\n",
       "      }\n",
       "    ];\n",
       "  \n",
       "    function run_inline_js() {\n",
       "      for (var i = 0; i < inline_js.length; i++) {\n",
       "        inline_js[i](window.Bokeh);\n",
       "      }\n",
       "    }\n",
       "  \n",
       "    if (window._bokeh_is_loading === 0) {\n",
       "      console.log(\"Bokeh: BokehJS loaded, going straight to plotting\");\n",
       "      run_inline_js();\n",
       "    } else {\n",
       "      load_libs(js_urls, function() {\n",
       "        console.log(\"Bokeh: BokehJS plotting callback run at\", now());\n",
       "        run_inline_js();\n",
       "      });\n",
       "    }\n",
       "  }(this));\n",
       "</script>"
      ]
     },
     "metadata": {},
     "output_type": "display_data"
    }
   ],
   "source": [
    "reload(maps)\n",
    "\n",
    "maps.plot_geocol_bk(db['geometry'], marker_size=10, hover=True)"
   ]
  },
  {
   "cell_type": "code",
   "execution_count": 6,
   "metadata": {
    "collapsed": true
   },
   "outputs": [],
   "source": [
    "gc = db['geometry']\n",
    "patch_xs = []\n",
    "patch_ys = []\n",
    "ids = []\n",
    "for id, shape in gc.iteritems():\n",
    "    for ring in shape.parts:\n",
    "        xs, ys = zip(*ring)\n",
    "        patch_xs.append(xs)\n",
    "        patch_ys.append(ys)\n",
    "        ids.append(id)\n",
    "cds = ColumnDataSource(data=dict(\n",
    "            x=patch_xs,\n",
    "            y=patch_ys\n",
    "            ))"
   ]
  },
  {
   "cell_type": "code",
   "execution_count": 8,
   "metadata": {
    "collapsed": false
   },
   "outputs": [
    {
     "data": {
      "text/html": [
       "\n",
       "\n",
       "    <div class=\"bk-root\">\n",
       "        <div class=\"plotdiv\" id=\"e705b66f-a8c7-455e-8ea4-51b78d7b3d1d\"></div>\n",
       "    </div>\n",
       "<script type=\"text/javascript\">\n",
       "  \n",
       "  (function(global) {\n",
       "    function now() {\n",
       "      return new Date();\n",
       "    }\n",
       "  \n",
       "    if (typeof (window._bokeh_onload_callbacks) === \"undefined\") {\n",
       "      window._bokeh_onload_callbacks = [];\n",
       "    }\n",
       "  \n",
       "    function run_callbacks() {\n",
       "      window._bokeh_onload_callbacks.forEach(function(callback) { callback() });\n",
       "      delete window._bokeh_onload_callbacks\n",
       "      console.info(\"Bokeh: all callbacks have finished\");\n",
       "    }\n",
       "  \n",
       "    function load_libs(js_urls, callback) {\n",
       "      window._bokeh_onload_callbacks.push(callback);\n",
       "      if (window._bokeh_is_loading > 0) {\n",
       "        console.log(\"Bokeh: BokehJS is being loaded, scheduling callback at\", now());\n",
       "        return null;\n",
       "      }\n",
       "      if (js_urls == null || js_urls.length === 0) {\n",
       "        run_callbacks();\n",
       "        return null;\n",
       "      }\n",
       "      console.log(\"Bokeh: BokehJS not loaded, scheduling load and callback at\", now());\n",
       "      window._bokeh_is_loading = js_urls.length;\n",
       "      for (var i = 0; i < js_urls.length; i++) {\n",
       "        var url = js_urls[i];\n",
       "        var s = document.createElement('script');\n",
       "        s.src = url;\n",
       "        s.async = false;\n",
       "        s.onreadystatechange = s.onload = function() {\n",
       "          window._bokeh_is_loading--;\n",
       "          if (window._bokeh_is_loading === 0) {\n",
       "            console.log(\"Bokeh: all BokehJS libraries loaded\");\n",
       "            run_callbacks()\n",
       "          }\n",
       "        };\n",
       "        s.onerror = function() {\n",
       "          console.warn(\"failed to load library \" + url);\n",
       "        };\n",
       "        console.log(\"Bokeh: injecting script tag for BokehJS library: \", url);\n",
       "        document.getElementsByTagName(\"head\")[0].appendChild(s);\n",
       "      }\n",
       "    };var element = document.getElementById(\"e705b66f-a8c7-455e-8ea4-51b78d7b3d1d\");\n",
       "    if (element == null) {\n",
       "      console.log(\"Bokeh: ERROR: autoload.js configured with elementid 'e705b66f-a8c7-455e-8ea4-51b78d7b3d1d' but no matching script tag was found. \")\n",
       "      return false;\n",
       "    }\n",
       "  \n",
       "    var js_urls = [];\n",
       "  \n",
       "    var inline_js = [\n",
       "      function(Bokeh) {\n",
       "        Bokeh.$(function() {\n",
       "            var docs_json = {\"4a5b41a5-2ca6-44f0-8d2e-db2cf5964d50\":{\"roots\":{\"references\":[{\"attributes\":{\"callback\":null},\"id\":\"a952e194-287d-4d8a-8aff-62ec9b6a9280\",\"type\":\"DataRange1d\"},{\"attributes\":{\"fill_alpha\":{\"value\":0.1},\"fill_color\":{\"value\":\"#1f77b4\"},\"line_alpha\":{\"value\":0.1},\"line_color\":{\"value\":\"#1f77b4\"},\"line_width\":{\"value\":0.5},\"xs\":{\"field\":\"x\"},\"ys\":{\"field\":\"y\"}},\"id\":\"b71f2d77-4967-414f-b086-be39857020c4\",\"type\":\"Patches\"},{\"attributes\":{\"callback\":null,\"plot\":{\"id\":\"c6ca0d21-992f-4eb9-93e2-f6ebacf98aa6\",\"subtype\":\"Figure\",\"type\":\"Plot\"}},\"id\":\"2c5b0408-287c-4d8b-9c4b-e301be56f283\",\"type\":\"HoverTool\"},{\"attributes\":{\"plot\":{\"id\":\"c6ca0d21-992f-4eb9-93e2-f6ebacf98aa6\",\"subtype\":\"Figure\",\"type\":\"Plot\"}},\"id\":\"46cee7d9-e7a3-4e19-a246-1c1ded33d72a\",\"type\":\"PanTool\"},{\"attributes\":{\"callback\":null,\"column_names\":[\"y\",\"x\"],\"data\":{\"x\":[[8.624129295349121,8.559700012207031,8.809452056884766,8.808412551879883,8.919304847717285,9.087138175964355,9.09996509552002,9.015047073364258,9.008951187133789,8.818140029907227,8.653305053710938,8.642902374267578,8.63259220123291,8.625825881958008,8.624129295349121],[8.252790451049805,8.282757759094238,8.330711364746094,8.383658409118652,8.444600105285645,8.544504165649414,8.624129295349121,8.625825881958008,8.63259220123291,8.642902374267578,8.653305053710938,8.662188529968262,8.666550636291504,8.605281829833984,8.579310417175293,8.562577247619629,8.540358543395996,8.516386985778809,8.502935409545898,8.473407745361328,8.45949935913086,8.431432723999023,8.415447235107422,8.387155532836914,8.37348747253418,8.323546409606934,8.284571647644043,8.291547775268555,8.229602813720703,8.22661304473877,8.215643882751465,8.198686599731445,8.16972541809082,8.12777042388916,8.093802452087402,8.063838005065918,8.044872283935547,8.037888526916504,7.999115943908691,7.99936580657959,8.003013610839844,7.950088977813721,8.111939430236816,8.147891998291016,8.181855201721191,8.20982837677002,8.252790451049805],[8.653305053710938,8.818140029907227,9.008951187133789,9.008928298950195,9.34359073638916,9.351485252380371,9.298501014709473,9.273821830749512,9.244555473327637,9.24254322052002,9.196581840515137,9.190605163574219,9.166626930236816,9.161684036254883,8.909939765930176,8.677577018737793,8.666550636291504,8.662188529968262,8.653305053710938],[8.45949935913086,8.473407745361328,8.502935409545898,8.516386985778809,8.540358543395996,8.562577247619629,8.579310417175293,8.605281829833984,8.666550636291504,8.677577018737793,8.685274124145508,8.628178596496582,8.588301658630371,8.571109771728516,8.547515869140625,8.537267684936523,8.505298614501953,8.459343910217285,8.450570106506348,8.439335823059082,8.380410194396973,8.385412216186523,8.316472053527832,8.294443130493164,8.279500007629395,8.247527122497559,8.201574325561523,8.201583862304688,8.19859504699707,8.233589172363281,8.229602813720703,8.291547775268555,8.284571647644043,8.323546409606934,8.37348747253418,8.387155532836914,8.415447235107422,8.431432723999023,8.45949935913086],[8.685274124145508,8.677577018737793,8.909939765930176,9.161684036254883,9.166626930236816,9.190605163574219,9.196581840515137,9.24254322052002,9.244555473327637,9.273821830749512,9.298501014709473,9.310471534729004,9.401384353637695,9.333296775817871,9.23626708984375,9.233386993408203,8.943572998046875,8.757728576660156,8.733969688415527,8.685274124145508],[9.401384353637695,9.43441104888916,9.605246543884277,9.651198387145996,9.687166213989258,9.686145782470703,9.845992088317871,10.050789833068848,10.103719711303711,10.175629615783691,10.1806001663208,10.16759967803955,10.153610229492188,10.1356201171875,10.119629859924316,10.121600151062012,10.096619606018066,10.085630416870117,10.05265998840332,10.027669906616211,9.772106170654297,9.677009582519531,9.67100715637207,9.333296775817871,9.401384353637695],[8.037740707397461,8.062715530395508,8.072694778442383,8.115653038024902,8.130637168884277,8.1974515914917,8.189590454101562,8.179450035095215,8.164705276489258,8.14012622833252,8.128536224365234,8.121718406677246,8.109848022460938,8.10498046875,8.181536674499512,8.293397903442383,8.380322456359863,8.456572532653809,8.425149917602539,8.412152290344238,8.351269721984863,8.2882719039917,8.28026294708252,8.232307434082031,8.22030258178711,8.154367446899414,8.145203590393066,8.104400634765625,8.062442779541016,8.052460670471191,8.052496910095215,8.048531532287598,8.032543182373047,8.01356029510498,7.989583969116211,7.962619781494141,7.923679828643799,7.898725986480713,7.88774299621582,7.871758937835693,7.868794918060303,7.866809844970703,7.851837158203125,7.844857215881348,7.8408918380737305,7.824925899505615,7.803965091705322,7.801973819732666,7.90187406539917,7.90288782119751,7.9967942237854,7.998781204223633,8.037740707397461],[8.247527122497559,8.279500007629395,8.294443130493164,8.316472053527832,8.385412216186523,8.380410194396973,8.439335823059082,8.450570106506348,8.459343910217285,8.505298614501953,8.537267684936523,8.547515869140625,8.571109771728516,8.588301658630371,8.628178596496582,8.685274124145508,8.733969688415527,8.651877403259277,8.596989631652832,8.585997581481934,8.517032623291016,8.456572532653809,8.380322456359863,8.293397903442383,8.181536674499512,8.10498046875,8.109848022460938,8.121718406677246,8.128536224365234,8.14012622833252,8.164705276489258,8.179450035095215,8.189590454101562,8.1974515914917,8.201574325561523,8.247527122497559],[9.333296775817871,9.67100715637207,9.677009582519531,9.772106170654297,10.027669906616211,9.950613975524902,10.004560470581055,10.082509994506836,10.083649635314941,10.086819648742676,10.089170455932617,10.091629981994629,10.093509674072266,10.095430374145508,10.015439987182617,9.763668060302734,9.723674774169922,9.555828094482422,9.471497535705566,9.386005401611328,9.383021354675293,9.258048057556152,9.124277114868164,9.146787643432617,9.166311264038086,9.187246322631836,9.206208229064941,9.213532447814941,9.220885276794434,9.233386993408203,9.23626708984375,9.333296775817871],[10.082509994506836,10.092499732971191,10.126489639282227,10.182459831237793,10.267419815063477,10.289389610290527,10.316360473632812,10.33234977722168,10.368260383605957,10.39428997039795,10.417269706726074,10.450240135192871,10.4752197265625,10.4752197265625,10.534159660339355,10.566129684448242,10.603090286254883,10.632060050964355,10.639049530029297,10.640040397644043,10.649020195007324,10.646010398864746,10.64700984954834,10.645999908447266,10.637999534606934,10.63899040222168,10.631979942321777,10.62697982788086,10.627969741821289,10.631959915161133,10.633950233459473,10.62893009185791,10.639909744262695,10.637900352478027,10.645890235900879,10.647870063781738,10.649680137634277,10.501099586486816,10.356599807739258,10.178409576416016,10.015439987182617,10.095430374145508,10.093509674072266,10.091629981994629,10.089170455932617,10.086819648742676,10.083649635314941,10.082509994506836],[8.585997581481934,8.596989631652832,8.651877403259277,8.733969688415527,8.757728576660156,8.700782775878906,8.693771362304688,8.632829666137695,8.629888534545898,8.572946548461914,8.585997581481934],[8.456572532653809,8.517032623291016,8.585997581481934,8.572946548461914,8.629888534545898,8.632829666137695,8.582889556884766,8.50916576385498,8.487373352050781,8.456572532653809],[8.145203590393066,8.154367446899414,8.22030258178711,8.232307434082031,8.28026294708252,8.2882719039917,8.351269721984863,8.412152290344238,8.425149917602539,8.456572532653809,8.487373352050781,8.456042289733887,8.402054786682129,8.337125778198242,8.245318412780762,8.145203590393066],[8.062442779541016,8.104400634765625,8.145203590393066,8.245318412780762,8.337125778198242,8.402054786682129,8.456042289733887,8.487373352050781,8.50916576385498,8.512937545776367,8.478970527648926,8.431012153625488,8.259181022644043,8.122319221496582,8.062442779541016],[8.757728576660156,8.943572998046875,9.233386993408203,9.220885276794434,9.213532447814941,9.206208229064941,9.187246322631836,9.166311264038086,9.146787643432617,9.124277114868164,8.913296699523926,8.855527877807617,8.785566329956055,8.777865409851074,8.757728576660156],[8.632829666137695,8.693771362304688,8.700782775878906,8.757728576660156,8.777865409851074,8.785566329956055,8.75838565826416,8.726524353027344,8.709477424621582,8.69460678100586,8.657632827758789,8.605761528015137,8.58968734741211,8.512937545776367,8.50916576385498,8.582889556884766,8.632829666137695],[10.356599807739258,10.501099586486816,10.649680137634277,10.70281982421875,10.709790229797363,10.664819717407227,10.6697998046875,10.667770385742188,10.666970252990723,10.667340278625488,10.669699668884277,10.42175006866455,10.420989990234375,10.356060028076172,10.356389999389648,10.356599807739258],[8.431012153625488,8.478970527648926,8.512937545776367,8.58968734741211,8.565507888793945,8.554715156555176,8.523073196411133,8.502638816833496,8.4813814163208,8.438838958740234,8.406447410583496,8.391569137573242,8.369997024536133,8.358473777770996,8.423884391784668,8.431012153625488],[8.122319221496582,8.259181022644043,8.431012153625488,8.423884391784668,8.358473777770996,8.350508689880371,8.347976684570312,8.3489990234375,8.33201789855957,8.30504322052002,8.301017761230469,8.299444198608398,8.296090126037598,8.223162651062012,8.148235321044922,8.13826847076416,8.138282775878906,8.122319221496582],[10.015439987182617,10.178409576416016,10.356599807739258,10.356389999389648,10.356060028076172,10.420989990234375,10.42175006866455,10.424249649047852,10.425640106201172,10.252799987792969,10.05659008026123,10.049909591674805,10.049750328063965,10.04928970336914,10.048910140991211,10.04207992553711,10.02422046661377,10.007160186767578,9.991960525512695,9.956293106079102,9.914779663085938,9.899951934814453,9.892878532409668,9.884350776672363,10.001230239868164,9.96633243560791,9.841083526611328,9.935688018798828,9.941193580627441,9.93346881866455,10.015439987182617],[7.842434883117676,8.131139755249023,8.136807441711426,8.141800880432129,8.14834976196289,8.157790184020996,8.174397468566895,8.190520286560059,8.225326538085938,8.25028133392334,8.310224533081055,8.32612133026123,8.358863830566406,8.408769607543945,8.43419361114502,8.471713066101074,8.495033264160156,8.505514144897461,8.519205093383789,8.538623809814453,8.544462203979492,8.563572883605957,8.525978088378906,8.517660140991211,8.471677780151367,8.455998420715332,8.412508010864258,8.404298782348633,8.386432647705078,8.37365436553955,8.282732009887695,8.256792068481445,8.103923797607422,8.120859146118164,7.733179092407227,7.688279151916504,7.717282772064209,7.580474853515625,7.637434005737305,7.616511821746826,7.40372896194458,7.404763221740723,7.323862075805664,7.19602108001709,7.135107040405273,7.108152866363525,7.092213153839111,7.0613298416137695,7.143249988555908,7.155218124389648,7.173169136047363,7.206113815307617,7.27003812789917,7.341958045959473,7.429862976074219,7.459833145141602,7.481781005859375,7.498770236968994,7.516755104064941,7.548725128173828,7.5597147941589355,7.55869197845459,7.569672107696533,7.616611003875732,7.6695709228515625,7.721512794494629,7.708548069000244,7.639626979827881,7.646636009216309,7.842434883117676],[9.386005401611328,9.471497535705566,9.555828094482422,9.723674774169922,9.763668060302734,10.015439987182617,9.93346881866455,9.941193580627441,9.935688018798828,9.841083526611328,9.656930923461914,9.468775749206543,9.394844055175781,9.386472702026367,9.38573932647705,9.380951881408691,9.357977867126465,9.35901927947998,9.386005401611328],[10.667770385742188,10.776670455932617,10.88755989074707,10.888489723205566,10.884440422058105,10.884380340576172,10.876319885253906,10.640899658203125,10.424249649047852,10.42175006866455,10.669699668884277,10.667340278625488,10.666970252990723,10.667770385742188],[8.148235321044922,8.223162651062012,8.296090126037598,8.299444198608398,8.301017761230469,8.30504322052002,8.33201789855957,8.3489990234375,8.347976684570312,8.350508689880371,8.358473777770996,8.369997024536133,8.391569137573242,8.406447410583496,8.438838958740234,8.4813814163208,8.502638816833496,8.523073196411133,8.554715156555176,8.565507888793945,8.58968734741211,8.605761528015137,8.657632827758789,8.69460678100586,8.709477424621582,8.708919525146484,8.7083158493042,8.707547187805176,8.767485618591309,8.758467674255371,8.784432411193848,8.790392875671387,8.643799781799316,8.538623809814453,8.519205093383789,8.505514144897461,8.495033264160156,8.471713066101074,8.43419361114502,8.408769607543945,8.358863830566406,8.32612133026123,8.310224533081055,8.25028133392334,8.225326538085938,8.190520286560059,8.174397468566895,8.157790184020996,8.14834976196289,8.141800880432129,8.136807441711426,8.131139755249023,8.137151718139648,8.14915943145752,8.160175323486328,8.155200958251953,8.147226333618164,8.148235321044922],[8.785566329956055,8.855527877807617,8.913296699523926,9.124277114868164,9.124981880187988,9.127169609069824,9.129522323608398,9.131059646606445,9.116094589233398,8.95518970489502,8.790392875671387,8.784432411193848,8.758467674255371,8.767485618591309,8.707547187805176,8.7083158493042,8.708919525146484,8.709477424621582,8.726524353027344,8.75838565826416,8.785566329956055],[9.124277114868164,9.258048057556152,9.383021354675293,9.386005401611328,9.35901927947998,9.357977867126465,9.380951881408691,9.38573932647705,9.386472702026367,9.394844055175781,9.25829792022705,9.131059646606445,9.129522323608398,9.127169609069824,9.124981880187988,9.124277114868164],[9.468775749206543,9.656930923461914,9.841083526611328,9.96633243560791,10.001230239868164,9.884350776672363,9.892878532409668,9.899951934814453,9.914779663085938,9.956293106079102,9.991960525512695,10.007160186767578,9.755396842956543,9.480667114257812,9.481962203979492,9.478416442871094,9.468775749206543],[9.394844055175781,9.468775749206543,9.478416442871094,9.481962203979492,9.480667114257812,9.482346534729004,9.488198280334473,9.489535331726074,9.492551803588867,9.3436918258667,9.200423240661621,9.084967613220215,9.090069770812988,9.093652725219727,9.098085403442383,9.100104331970215,9.103628158569336,9.115089416503906,9.131059646606445,9.25829792022705,9.394844055175781],[9.116094589233398,9.131059646606445,9.115089416503906,9.103628158569336,9.100104331970215,9.098085403442383,9.093652725219727,9.090069770812988,9.084967613220215,8.898137092590332,8.868269920349121,8.811333656311035,8.813672065734863,8.81535530090332,8.790384292602539,8.790392875671387,8.95518970489502,9.116094589233398],[8.643799781799316,8.790392875671387,8.790384292602539,8.81535530090332,8.813672065734863,8.811333656311035,8.868269920349121,8.898137092590332,8.8291654586792,8.713337898254395,8.618428230285645,8.508537292480469,8.386432647705078,8.404298782348633,8.412508010864258,8.455998420715332,8.471677780151367,8.517660140991211,8.525978088378906,8.563572883605957,8.544462203979492,8.538623809814453,8.643799781799316],[6.7633137702941895,6.942171096801758,7.004114151000977,7.078045845031738,7.125000953674316,7.185831069946289,7.013006210327148,6.741261005401611,6.456532001495361,6.674379825592041,6.7633137702941895],[10.424249649047852,10.640899658203125,10.876319885253906,10.886269569396973,10.915240287780762,10.932220458984375,10.963190078735352,10.983169555664062,10.995160102844238,11.045080184936523,11.112970352172852,11.204830169677734,11.126910209655762,11.073969841003418,10.974069595336914,10.952119827270508,10.878219604492188,10.806260108947754,10.78335952758789,10.766209602355957,10.677379608154297,10.656399726867676,10.613459587097168,10.560500144958496,10.531530380249023,10.425640106201172,10.424249649047852],[9.480667114257812,9.755396842956543,10.007160186767578,10.02422046661377,10.04207992553711,10.048910140991211,10.04928970336914,10.049750328063965,10.049909591674805,10.026479721069336,9.986115455627441,9.973393440246582,9.925159454345703,9.877091407775879,9.859211921691895,9.831770896911621,9.800299644470215,9.6394681930542,9.489535331726074,9.488198280334473,9.482346534729004,9.480667114257812],[7.185831069946289,7.317720890045166,7.508541107177734,7.4845499992370605,7.463559150695801,7.469532012939453,7.493495941162109,7.492452144622803,7.688279151916504,7.733179092407227,7.710183143615723,7.674202919006348,7.624241828918457,7.562289237976074,7.4683637619018555,7.398374080657959,7.375504970550537,7.315611839294434,7.123810768127441,6.9848952293396,6.9718852043151855,6.966993808746338,7.019946098327637,7.013006210327148,7.185831069946289],[9.489535331726074,9.6394681930542,9.800299644470215,9.831770896911621,9.859211921691895,9.877091407775879,9.925159454345703,9.973393440246582,9.986115455627441,10.026479721069336,10.049909591674805,10.05659008026123,9.917131423950195,9.918045997619629,9.500506401062012,9.341614723205566,9.3436918258667,9.492551803588867,9.489535331726074],[6.741261005401611,7.013006210327148,7.019946098327637,6.966993808746338,6.9718852043151855,6.9848952293396,6.8914008140563965,6.77780818939209,6.758334159851074,6.6781768798828125,6.61027717590332,6.558311939239502,6.481366157531738,6.456532001495361,6.741261005401611],[8.713337898254395,8.8291654586792,8.898137092590332,9.084967613220215,9.085843086242676,9.09585952758789,9.082836151123047,9.000834465026855,8.935976028442383,8.922977447509766,8.77213191986084,8.713337898254395],[9.084967613220215,9.200423240661621,9.3436918258667,9.341614723205566,9.20775318145752,9.09585952758789,9.085843086242676,9.084967613220215],[6.181705951690674,6.394561767578125,6.456532001495361,6.481366157531738,6.33650016784668,6.335865020751953,6.335484027862549,6.356451034545898,6.3594160079956055,6.316442012786865,6.167585849761963,6.179293155670166,6.1806111335754395,6.212475776672363,6.220479965209961,6.220462799072266,6.088609218597412,6.088623046875,6.084632873535156,6.085638046264648,6.035704135894775,5.9847540855407715,5.948803901672363,5.96979284286499,5.970815181732178,5.87490701675415,6.181705951690674],[10.05659008026123,10.252799987792969,10.425640106201172,10.531530380249023,10.560500144958496,10.613459587097168,10.656399726867676,10.677379608154297,10.766209602355957,10.78335952758789,10.806260108947754,10.802240371704102,10.80321979522705,10.806090354919434,10.808199882507324,10.808690071105957,10.804929733276367,10.799189567565918,10.802140235900879,10.8020601272583,10.73412036895752,10.687170028686523,10.613240242004395,10.595250129699707,10.555290222167969,10.480369567871094,10.421429634094238,10.364489555358887,10.343520164489746,10.329560279846191,10.320590019226074,10.279640197753906,10.226710319519043,10.168800354003906,10.109880447387695,10.07094955444336,10.05659008026123],[10.806260108947754,10.878219604492188,10.952119827270508,10.974069595336914,11.073969841003418,11.126910209655762,11.126890182495117,11.138870239257812,11.139849662780762,11.141839981079102,11.12285041809082,11.122790336608887,11.122209548950195,11.098469734191895,11.078960418701172,11.06859016418457,11.014869689941406,10.963910102844238,10.919949531555176,10.901860237121582,10.8774995803833,10.840740203857422,10.818880081176758,10.8020601272583,10.802140235900879,10.799189567565918,10.804929733276367,10.808690071105957,10.808199882507324,10.806090354919434,10.80321979522705,10.802240371704102,10.806260108947754],[6.758334159851074,6.77780818939209,6.8914008140563965,6.9848952293396,7.123810768127441,7.315611839294434,7.375504970550537,7.398374080657959,7.404403209686279,7.38238000869751,7.359377861022949,7.327386856079102,7.275406837463379,6.82789421081543,6.879881858825684,6.81195592880249,6.83095121383667,6.771010875701904,6.7540388107299805,6.7860212326049805,6.778051853179932,6.758076190948486,6.758334159851074],[9.09585952758789,9.20775318145752,9.341614723205566,9.338521957397461,9.207670211791992,9.10374927520752,9.082836151123047,9.09585952758789],[9.341614723205566,9.500506401062012,9.918045997619629,9.963891983032227,9.778072357177734,9.776052474975586,9.656153678894043,9.5482759475708,9.546306610107422,9.391454696655273,9.335508346557617,9.338521957397461,9.341614723205566],[9.000834465026855,9.082836151123047,9.10374927520752,9.111679077148438,9.107674598693848,9.098838806152344,9.093674659729004,9.171592712402344,9.174186706542969,9.175572395324707,9.178548812866211,9.146570205688477,9.135557174682617,9.10042953491211,9.095559120178223,8.85079574584961,8.815848350524902,8.789886474609375,8.7659273147583,8.752955436706543,8.747973442077637,8.753978729248047,8.750991821289062,8.622117042541504,8.631120681762695,8.634133338928223,8.63216495513916,8.665151596069336,8.68313980102539,8.69713020324707,8.67520809173584,8.77213191986084,8.922977447509766,8.935976028442383,9.000834465026855],[6.481366157531738,6.558311939239502,6.61027717590332,6.6781768798828125,6.6491851806640625,6.647164821624756,6.639161109924316,6.522275924682617,6.520257949829102,6.5162482261657715,6.542212009429932,6.549192905426025,6.55515718460083,6.534173011779785,6.537120819091797,6.220462799072266,6.220479965209961,6.212475776672363,6.1806111335754395,6.179293155670166,6.167585849761963,6.316442012786865,6.3594160079956055,6.356451034545898,6.335484027862549,6.335865020751953,6.33650016784668,6.481366157531738],[11.098469734191895,11.122209548950195,11.120759963989258,11.119729995727539,11.123700141906738,11.14465045928955,11.181599617004395,11.221540451049805,11.256489753723145,11.275449752807617,11.287420272827148,11.286399841308594,11.013669967651367,10.963720321655273,10.88379955291748,10.781900405883789,10.708979606628418,10.694000244140625,10.649069786071777,10.616109848022461,10.588159561157227,10.592169761657715,10.691129684448242,10.687170028686523,10.73412036895752,10.8020601272583,10.818880081176758,10.840740203857422,10.8774995803833,10.901860237121582,10.919949531555176,10.963910102844238,11.014869689941406,11.06859016418457,11.078960418701172,11.098469734191895],[9.207670211791992,9.338521957397461,9.335508346557617,9.391454696655273,9.39303207397461,9.393250465393066,9.3948974609375,9.39454460144043,9.393360137939453,9.282283782958984,9.175572395324707,9.174186706542969,9.171592712402344,9.093674659729004,9.098838806152344,9.107674598693848,9.111679077148438,9.10374927520752,9.207670211791992],[9.391454696655273,9.546306610107422,9.5482759475708,9.656153678894043,9.776052474975586,9.779011726379395,9.774969100952148,9.775935173034668,9.78189754486084,9.095559120178223,9.10042953491211,9.135557174682617,9.146570205688477,9.178548812866211,9.175572395324707,9.282283782958984,9.393360137939453,9.39454460144043,9.3948974609375,9.393250465393066,9.39303207397461,9.391454696655273]],\"y\":[[14.236980438232422,14.742449760437012,14.734430313110352,14.636520385742188,14.638500213623047,14.63049030303955,14.244830131530762,14.241840362548828,13.995059967041016,14.002050399780273,14.008090019226074,14.089710235595703,14.1705904006958,14.22367000579834,14.236980438232422],[14.236940383911133,14.229940414428711,14.229940414428711,14.228930473327637,14.228919982910156,14.23490047454834,14.236980438232422,14.22367000579834,14.1705904006958,14.089710235595703,14.008090019226074,13.909899711608887,13.861700057983398,13.839249610900879,13.8412504196167,13.84253978729248,13.842399597167969,13.841679573059082,13.838729858398438,13.832269668579102,13.82034969329834,13.793310165405273,13.79030990600586,13.788969993591309,13.78831958770752,13.786080360412598,13.784330368041992,13.74137020111084,13.72739028930664,13.744379997253418,13.794329643249512,13.858280181884766,13.883259773254395,13.89225959777832,13.891260147094727,13.90526008605957,13.943220138549805,13.96720027923584,14.02457046508789,14.0349702835083,14.187020301818848,14.243969917297363,14.263930320739746,14.232959747314453,14.225959777832031,14.226949691772461,14.236940383911133],[14.008090019226074,14.002050399780273,13.995059967041016,13.9381103515625,13.913080215454102,13.67529010772705,13.589380264282227,13.588560104370117,13.59138011932373,13.558409690856934,13.544429779052734,13.586389541625977,13.581399917602539,13.708290100097656,13.715530395507812,13.722209930419922,13.861700057983398,13.909899711608887,14.008090019226074],[13.82034969329834,13.832269668579102,13.838729858398438,13.841679573059082,13.842399597167969,13.84253978729248,13.8412504196167,13.839249610900879,13.861700057983398,13.722209930419922,13.639519691467285,13.639459609985352,13.641819953918457,13.64126968383789,13.643819808959961,13.644430160522461,13.644430160522461,13.644430160522461,13.60453987121582,13.605520248413086,13.616470336914062,13.63444995880127,13.616479873657227,13.604570388793945,13.596500396728516,13.586509704589844,13.591509819030762,13.614489555358887,13.635479927062988,13.703410148620605,13.72739028930664,13.74137020111084,13.784330368041992,13.786080360412598,13.78831958770752,13.788969993591309,13.79030990600586,13.793310165405273,13.82034969329834],[13.639519691467285,13.722209930419922,13.715530395507812,13.708290100097656,13.581399917602539,13.586389541625977,13.544429779052734,13.558409690856934,13.59138011932373,13.588560104370117,13.589380264282227,13.54541015625,13.550399780273438,13.272419929504395,12.876279830932617,12.86400032043457,12.86221981048584,12.861089706420898,13.116339683532715,13.639519691467285],[13.550399780273438,13.694270133972168,13.698240280151367,13.692239761352539,13.697230339050293,13.645279884338379,13.652250289916992,13.650230407714844,13.603260040283203,13.565290451049805,13.482359886169434,13.471369743347168,13.454389572143555,13.439399719238281,13.429409980773926,13.344490051269531,13.342490196228027,13.333499908447266,13.33650016784668,13.298540115356445,13.292110443115234,13.296589851379395,13.27361011505127,13.272419929504395,13.550399780273438],[13.60752010345459,13.604519844055176,13.58053970336914,13.579540252685547,13.576539993286133,13.575770378112793,13.545760154724121,13.529829978942871,13.511059761047363,13.479769706726074,13.470100402832031,13.461039543151855,13.432640075683594,13.420989990234375,13.415909767150879,13.408490180969238,13.40466022491455,13.104069709777832,13.09391975402832,13.068949699401855,13.066499710083008,13.063969612121582,13.026000022888184,13.020009994506836,12.979049682617188,12.978059768676758,12.942020416259766,12.943050384521484,12.944100379943848,12.963089942932129,13.052009582519531,13.129940032958984,13.117950439453125,13.114959716796875,13.115960121154785,13.137940406799316,13.191900253295898,13.243860244750977,13.25784969329834,13.25885009765625,13.338780403137207,13.371749877929688,13.40073013305664,13.432700157165527,13.50862979888916,13.552599906921387,13.596559524536133,13.61553955078125,13.608539581298828,13.644510269165039,13.63949966430664,13.614520072937012,13.60752010345459],[13.586509704589844,13.596500396728516,13.604570388793945,13.616479873657227,13.63444995880127,13.616470336914062,13.605520248413086,13.60453987121582,13.644430160522461,13.644430160522461,13.644430160522461,13.643819808959961,13.64126968383789,13.641819953918457,13.639459609985352,13.639519691467285,13.116339683532715,13.113670349121094,13.111889839172363,13.106889724731445,13.105389595031738,13.104069709777832,13.40466022491455,13.408490180969238,13.415909767150879,13.420989990234375,13.432640075683594,13.461039543151855,13.470100402832031,13.479769706726074,13.511059761047363,13.529829978942871,13.545760154724121,13.575770378112793,13.591509819030762,13.586509704589844],[13.272419929504395,13.27361011505127,13.296589851379395,13.292110443115234,13.298540115356445,12.983830451965332,12.976829528808594,13.033769607543945,13.019869804382324,12.981430053710938,12.952810287475586,12.923040390014648,12.900219917297363,12.876899719238281,12.72404956817627,12.67313003540039,12.595199584960938,12.595190048217773,12.595709800720215,12.596240043640137,12.627209663391113,12.630610466003418,12.63424015045166,12.658740043640137,12.679980278015137,12.7091703414917,12.75883960723877,12.778030395507812,12.805720329284668,12.86400032043457,12.876279830932617,13.272419929504395],[13.033769607543945,13.052749633789062,13.090709686279297,13.157649993896484,13.254549980163574,13.247550010681152,13.244549751281738,13.23954963684082,13.246430397033691,13.246540069580078,13.247540473937988,13.251529693603516,13.261520385742188,13.272509574890137,13.271499633789062,13.271499633789062,13.26550006866455,13.263489723205566,13.24450969696045,13.21953010559082,13.199549674987793,13.176569938659668,13.15758991241455,13.144599914550781,13.129610061645508,13.104630470275879,13.070659637451172,13.051679611206055,13.026700019836426,13.008720397949219,12.983739852905273,12.945779800415039,12.918800354003906,12.890819549560547,12.865839958190918,12.842860221862793,12.830180168151855,12.805319786071777,12.781140327453613,12.751319885253906,12.72404956817627,12.876899719238281,12.900219917297363,12.923040390014648,12.952810287475586,12.981430053710938,13.019869804382324,13.033769607543945],[13.106889724731445,13.111889839172363,13.113670349121094,13.116339683532715,12.861089706420898,12.857099533081055,12.811140060424805,12.810150146484375,12.945030212402344,12.950030326843262,13.106889724731445],[13.104069709777832,13.105389595031738,13.106889724731445,12.950030326843262,12.945030212402344,12.810150146484375,12.809769630432129,12.809200286865234,12.930660247802734,13.104069709777832],[12.942020416259766,12.978059768676758,12.979049682617188,13.020009994506836,13.026000022888184,13.063969612121582,13.066499710083008,13.068949699401855,13.09391975402832,13.104069709777832,12.930660247802734,12.931710243225098,12.9335298538208,12.935720443725586,12.938819885253906,12.942020416259766],[12.944100379943848,12.943050384521484,12.942020416259766,12.938819885253906,12.935720443725586,12.9335298538208,12.931710243225098,12.930660247802734,12.809200286865234,12.788180351257324,12.788189888000488,12.788060188293457,12.787599563598633,12.787229537963867,12.944100379943848],[12.861089706420898,12.86221981048584,12.86400032043457,12.805720329284668,12.778030395507812,12.75883960723877,12.7091703414917,12.679980278015137,12.658740043640137,12.63424015045166,12.609800338745117,12.606300354003906,12.532369613647461,12.628029823303223,12.861089706420898],[12.810150146484375,12.811140060424805,12.857099533081055,12.861089706420898,12.628029823303223,12.532369613647461,12.49685001373291,12.455209732055664,12.4273099899292,12.417490005493164,12.391510009765625,12.367939949035645,12.361550331115723,12.788180351257324,12.809200286865234,12.809769630432129,12.810150146484375],[12.781140327453613,12.805319786071777,12.830180168151855,12.838859558105469,12.774909973144531,12.762929916381836,12.703980445861816,12.648030281066895,12.595029830932617,12.580109596252441,12.483180046081543,12.44025993347168,12.578129768371582,12.598119735717773,12.712010383605957,12.781140327453613],[12.788060188293457,12.788189888000488,12.788180351257324,12.361550331115723,12.355330467224121,12.355330467224121,12.355310440063477,12.357080459594727,12.362910270690918,12.373559951782227,12.396730422973633,12.407380104064941,12.428179740905762,12.445659637451172,12.448490142822266,12.788060188293457],[12.787229537963867,12.787599563598633,12.788060188293457,12.448490142822266,12.445659637451172,12.481929779052734,12.493459701538086,12.547419548034668,12.547419548034668,12.550419807434082,12.593090057373047,12.609780311584473,12.645339965820312,12.645339965820312,12.645350456237793,12.703310012817383,12.737279891967773,12.787229537963867],[12.72404956817627,12.751319885253906,12.781140327453613,12.712010383605957,12.598119735717773,12.578129768371582,12.44025993347168,11.990639686584473,11.741860389709473,11.742819786071777,11.74390983581543,11.76294994354248,11.778960227966309,11.822830200195312,11.858799934387207,11.912759780883789,11.962309837341309,12.009679794311523,12.031510353088379,12.08275032043457,12.142390251159668,12.163689613342285,12.173850059509277,12.191530227661133,12.170539855957031,12.341389656066895,12.314740180969238,12.501870155334473,12.512129783630371,12.599410057067871,12.72404956817627],[12.405599594116211,12.373600006103516,12.348549842834473,12.326470375061035,12.298720359802246,12.281220436096191,12.2504301071167,12.237640380859375,12.206859588623047,12.194430351257324,12.156929969787598,12.153280258178711,12.145950317382812,12.134770393371582,12.139209747314453,12.145750045776367,12.13776969909668,12.128210067749023,12.115229606628418,12.088789939880371,12.073599815368652,12.023850440979004,11.924659729003906,11.91471004486084,11.863730430603027,11.847610473632812,11.807350158691406,11.800470352172852,11.785490036010742,11.774089813232422,11.74413013458252,11.828060150146484,11.785120010375977,11.670220375061035,11.527389526367188,11.66327953338623,11.741209983825684,11.882100105285645,11.917059898376465,12.057939529418945,12.080949783325195,12.164870262145996,12.21183967590332,12.295780181884766,12.359729766845703,12.406700134277344,12.51261043548584,12.725419998168945,12.724410057067871,12.674460411071777,12.598520278930664,12.544560432434082,12.510580062866211,12.486599922180176,12.46660041809082,12.463600158691406,12.389659881591797,12.403650283813477,12.409640312194824,12.412630081176758,12.414629936218262,12.356679916381836,12.334699630737305,12.29872989654541,12.327690124511719,12.307709693908691,12.36266040802002,12.389639854431152,12.430609703063965,12.405599594116211],[12.596240043640137,12.595709800720215,12.595190048217773,12.595199584960938,12.67313003540039,12.72404956817627,12.599410057067871,12.512129783630371,12.501870155334473,12.314740180969238,12.274029731750488,12.234550476074219,12.22655963897705,12.34727954864502,12.361639976501465,12.45536994934082,12.462360382080078,12.56527042388916,12.596240043640137],[12.648030281066895,12.652009963989258,12.644009590148926,12.49213981628418,12.34926986694336,12.19340991973877,12.037540435791016,12.0131196975708,11.990639686584473,12.44025993347168,12.483180046081543,12.580109596252441,12.595029830932617,12.648030281066895],[12.645350456237793,12.645339965820312,12.645339965820312,12.609780311584473,12.593090057373047,12.550419807434082,12.547419548034668,12.547419548034668,12.493459701538086,12.481929779052734,12.445659637451172,12.428179740905762,12.407380104064941,12.396730422973633,12.373559951782227,12.362910270690918,12.357080459594727,12.355310440063477,12.355330467224121,12.355330467224121,12.361550331115723,12.367939949035645,12.391510009765625,12.417490005493164,12.4273099899292,12.39048957824707,12.350500106811523,12.302590370178223,12.29557991027832,12.230640411376953,12.206660270690918,12.12572956085205,12.102089881896973,12.088789939880371,12.115229606628418,12.128210067749023,12.13776969909668,12.145750045776367,12.139209747314453,12.134770393371582,12.145950317382812,12.153280258178711,12.156929969787598,12.194430351257324,12.206859588623047,12.237640380859375,12.2504301071167,12.281220436096191,12.298720359802246,12.326470375061035,12.348549842834473,12.373600006103516,12.416560173034668,12.462510108947754,12.528459548950195,12.5794095993042,12.619379997253418,12.645350456237793],[12.532369613647461,12.606300354003906,12.609800338745117,12.63424015045166,12.587260246276855,12.441459655761719,12.284629821777344,12.182160377502441,12.17965030670166,12.153010368347168,12.12572956085205,12.206660270690918,12.230640411376953,12.29557991027832,12.302590370178223,12.350500106811523,12.39048957824707,12.4273099899292,12.455209732055664,12.49685001373291,12.532369613647461],[12.63424015045166,12.630610466003418,12.627209663391113,12.596240043640137,12.56527042388916,12.462360382080078,12.45536994934082,12.361639976501465,12.34727954864502,12.22655963897705,12.203579902648926,12.182160377502441,12.284629821777344,12.441459655761719,12.587260246276855,12.63424015045166],[12.234550476074219,12.274029731750488,12.314740180969238,12.341389656066895,12.170539855957031,12.191530227661133,12.173850059509277,12.163689613342285,12.142390251159668,12.08275032043457,12.031510353088379,12.009679794311523,12.004929542541504,12.002750396728516,12.065779685974121,12.161820411682129,12.234550476074219],[12.22655963897705,12.234550476074219,12.161820411682129,12.065779685974121,12.002750396728516,11.975689888000488,11.881449699401855,11.859919548034668,11.751970291137695,11.734999656677246,11.767109870910645,11.792989730834961,11.873970031738281,11.930830001831055,12.025779724121094,12.063579559326172,12.128439903259277,12.158659934997559,12.182160377502441,12.203579902648926,12.22655963897705],[12.17965030670166,12.182160377502441,12.158659934997559,12.128439903259277,12.063579559326172,12.025779724121094,11.930830001831055,11.873970031738281,11.792989730834961,11.80247974395752,12.013819694519043,12.030810356140137,12.06682014465332,12.09276008605957,12.10575008392334,12.12572956085205,12.153010368347168,12.17965030670166],[12.102089881896973,12.12572956085205,12.10575008392334,12.09276008605957,12.06682014465332,12.030810356140137,12.013819694519043,11.80247974395752,11.80486011505127,11.810020446777344,11.80504035949707,11.809040069580078,11.785490036010742,11.800470352172852,11.807350158691406,11.847610473632812,11.863730430603027,11.91471004486084,11.924659729003906,12.023850440979004,12.073599815368652,12.088789939880371,12.102089881896973],[11.981120109558105,12.0560302734375,12.067009925842285,12.076990127563477,12.078980445861816,11.84823989868164,11.82621955871582,11.799280166625977,11.781330108642578,11.931170463562012,11.981120109558105],[11.990639686584473,12.0131196975708,12.037540435791016,11.946619987487793,11.941619873046875,11.938619613647461,11.940620422363281,11.936619758605957,11.937620162963867,11.853679656982422,11.761759757995605,11.638850212097168,11.633870124816895,11.65785026550293,11.661860466003418,11.72780990600586,11.723259925842285,11.718830108642578,11.719550132751465,11.720080375671387,11.72284984588623,11.72284984588623,11.723299980163574,11.723859786987305,11.743849754333496,11.741860389709473,11.990639686584473],[12.002750396728516,12.004929542541504,12.009679794311523,11.962309837341309,11.912759780883789,11.858799934387207,11.822830200195312,11.778960227966309,11.76294994354248,11.787699699401855,11.802860260009766,11.809060096740723,11.82384967803955,11.8441801071167,11.851739883422852,11.858819961547852,11.866829872131348,11.863249778747559,11.859919548034668,11.881449699401855,11.975689888000488,12.002750396728516],[11.84823989868164,11.856149673461914,11.872119903564453,11.838150024414062,11.80918025970459,11.757220268249512,11.728249549865723,11.619339942932129,11.66327953338623,11.527389526367188,11.482439994812012,11.446470260620117,11.421500205993652,11.388540267944336,11.349579811096191,11.329950332641602,11.471489906311035,11.586389541625977,11.530790328979492,11.490519523620605,11.633569717407227,11.687350273132324,11.695340156555176,11.82621955871582,11.84823989868164],[11.859919548034668,11.863249778747559,11.866829872131348,11.858819961547852,11.851739883422852,11.8441801071167,11.82384967803955,11.809060096740723,11.802860260009766,11.787699699401855,11.76294994354248,11.74390983581543,11.737930297851562,11.531109809875488,11.542019844055176,11.546170234680176,11.734999656677246,11.751970291137695,11.859919548034668],[11.799280166625977,11.82621955871582,11.695340156555176,11.687350273132324,11.633569717407227,11.490519523620605,11.479410171508789,11.465909957885742,11.462329864501953,11.447600364685059,11.444780349731445,11.44219970703125,11.439629554748535,11.781330108642578,11.799280166625977],[11.810020446777344,11.80486011505127,11.80247974395752,11.792989730834961,11.639080047607422,11.559189796447754,11.456330299377441,11.458020210266113,11.46030044555664,11.434320449829102,11.450329780578613,11.810020446777344],[11.792989730834961,11.767109870910645,11.734999656677246,11.546170234680176,11.55325984954834,11.559189796447754,11.639080047607422,11.792989730834961],[11.553569793701172,11.710399627685547,11.781330108642578,11.439629554748535,11.420660018920898,11.39568042755127,11.38070011138916,11.349720001220703,11.27379035949707,11.232830047607422,11.230850219726562,11.18159008026123,11.167719841003418,11.122119903564453,11.099960327148438,11.057000160217285,11.097979545593262,11.132949829101562,11.148940086364746,11.160920143127441,11.202890396118164,11.203900337219238,11.239870071411133,11.263850212097168,11.31779956817627,11.313819885253906,11.553569793701172],[11.74390983581543,11.742819786071777,11.741860389709473,11.743849754333496,11.723859786987305,11.723299980163574,11.72284984588623,11.72284984588623,11.720080375671387,11.719550132751465,11.718830108642578,11.674869537353516,11.661589622497559,11.620909690856934,11.590950012207031,11.57466983795166,11.558989524841309,11.53499984741211,11.434080123901367,11.232259750366211,11.228269577026367,11.2222900390625,11.216300010681152,11.213310241699219,11.22029972076416,11.221309661865234,11.23231029510498,11.254300117492676,11.272279739379883,11.328240394592285,11.369199752807617,11.403180122375488,11.45613956451416,11.523090362548828,11.5900297164917,11.67197036743164,11.74390983581543],[11.718830108642578,11.723259925842285,11.72780990600586,11.661860466003418,11.65785026550293,11.633870124816895,11.59589958190918,11.56991958618164,11.530960083007812,11.505979537963867,11.492989540100098,11.336130142211914,11.315879821777344,11.303170204162598,11.295280456542969,11.2918701171875,11.274200439453125,11.265210151672363,11.254229545593262,11.252129554748535,11.246870040893555,11.238940238952637,11.235170364379883,11.232259750366211,11.434080123901367,11.53499984741211,11.558989524841309,11.57466983795166,11.590950012207031,11.620909690856934,11.661589622497559,11.674869537353516,11.718830108642578],[11.462329864501953,11.465909957885742,11.479410171508789,11.490519523620605,11.530790328979492,11.586389541625977,11.471489906311035,11.329950332641602,11.29263973236084,11.18474006652832,11.12479019165039,11.071849822998047,10.997920036315918,11.116869926452637,11.211779594421387,11.22877025604248,11.262740135192871,11.26574993133545,11.292719841003418,11.325690269470215,11.380640029907227,11.392629623413086,11.462329864501953],[11.559189796447754,11.55325984954834,11.546170234680176,11.312379837036133,11.31017017364502,11.308409690856934,11.456330299377441,11.559189796447754],[11.546170234680176,11.542019844055176,11.531109809875488,11.268340110778809,11.265359878540039,11.211409568786621,11.212479591369629,11.21343994140625,11.285369873046875,11.275400161743164,11.27241039276123,11.312379837036133,11.546170234680176],[11.458020210266113,11.456330299377441,11.308409690856934,11.157540321350098,11.135560035705566,11.115389823913574,11.10359001159668,11.09158992767334,11.060310363769531,11.048629760742188,10.999670028686523,10.976699829101562,10.917750358581543,10.899089813232422,10.828829765319824,10.821869850158691,10.867839813232422,10.899809837341309,10.938779830932617,10.978750228881836,11.010720252990723,11.035699844360352,11.060669898986816,11.059690475463867,11.089659690856934,11.126629829406738,11.199569702148438,11.246520042419434,11.2575101852417,11.267499923706055,11.405380249023438,11.450329780578613,11.434320449829102,11.46030044555664,11.458020210266113],[11.439629554748535,11.44219970703125,11.444780349731445,11.447600364685059,11.399640083312988,11.344690322875977,11.315719604492188,11.318730354309082,11.269769668579102,11.236800193786621,11.209819793701172,11.1808500289917,11.10791015625,11.096920013427734,10.97803020477295,11.057000160217285,11.099960327148438,11.122119903564453,11.167719841003418,11.18159008026123,11.230850219726562,11.232830047607422,11.27379035949707,11.349720001220703,11.38070011138916,11.39568042755127,11.420660018920898,11.439629554748535],[11.303170204162598,11.315879821777344,11.265190124511719,11.199250221252441,11.127309799194336,11.05636978149414,11.025400161743164,10.978429794311523,10.922479629516602,10.888500213623047,10.84253978729248,10.790590286254883,10.788629531860352,10.799619674682617,10.80762004852295,10.812629699707031,10.819640159606934,10.833629608154297,10.890580177307129,10.925559997558594,10.978509902954102,10.994500160217285,11.140359878540039,11.2222900390625,11.228269577026367,11.232259750366211,11.235170364379883,11.238940238952637,11.246870040893555,11.252129554748535,11.254229545593262,11.265210151672363,11.274200439453125,11.2918701171875,11.295280456542969,11.303170204162598],[11.31017017364502,11.312379837036133,11.27241039276123,11.275400161743164,11.262740135192871,11.251399993896484,11.165470123291016,11.139530181884766,11.052599906921387,11.048029899597168,11.048629760742188,11.060310363769531,11.09158992767334,11.10359001159668,11.115389823913574,11.135560035705566,11.157540321350098,11.308409690856934,11.31017017364502],[11.275400161743164,11.285369873046875,11.21343994140625,11.212479591369629,11.211409568786621,11.118490219116211,11.007590293884277,10.92866039276123,10.853730201721191,10.828829765319824,10.899089813232422,10.917750358581543,10.976699829101562,10.999670028686523,11.048629760742188,11.048029899597168,11.052599906921387,11.139530181884766,11.165470123291016,11.251399993896484,11.262740135192871,11.275400161743164]]}},\"id\":\"9ce1d78d-0f92-4551-8669-b53c4a69d1d2\",\"type\":\"ColumnDataSource\"},{\"attributes\":{\"renderers\":[{\"id\":\"1e5576ee-bb8f-41f3-be83-642a1118d287\",\"type\":\"Grid\"},{\"id\":\"7cbd4dac-ca12-4898-abcd-27d832c56a14\",\"type\":\"Grid\"},{\"id\":\"547bd621-b2f0-4a70-a734-e115fdee0452\",\"type\":\"BoxAnnotation\"},{\"id\":\"0fa4bd9e-9642-4b1b-a46c-9c40669baa66\",\"type\":\"GlyphRenderer\"}],\"title\":{\"id\":\"4cb96af2-a883-4932-9737-08c97fe81abe\",\"type\":\"Title\"},\"tool_events\":{\"id\":\"06ffc6c4-ee7b-4d3e-bfa9-5e0aed61b166\",\"type\":\"ToolEvents\"},\"toolbar\":{\"id\":\"60efa8e1-8d27-4a8b-b92e-e842847ec261\",\"type\":\"Toolbar\"},\"x_range\":{\"id\":\"9c81c513-9934-49dc-8b49-41d69925a41a\",\"type\":\"DataRange1d\"},\"y_range\":{\"id\":\"a952e194-287d-4d8a-8aff-62ec9b6a9280\",\"type\":\"DataRange1d\"}},\"id\":\"c6ca0d21-992f-4eb9-93e2-f6ebacf98aa6\",\"subtype\":\"Figure\",\"type\":\"Plot\"},{\"attributes\":{\"grid_line_color\":{\"value\":null},\"plot\":{\"id\":\"c6ca0d21-992f-4eb9-93e2-f6ebacf98aa6\",\"subtype\":\"Figure\",\"type\":\"Plot\"},\"ticker\":{\"id\":\"8e3f9070-201e-4832-818b-cdaf807415d3\",\"type\":\"BasicTicker\"}},\"id\":\"1e5576ee-bb8f-41f3-be83-642a1118d287\",\"type\":\"Grid\"},{\"attributes\":{\"plot\":{\"id\":\"c6ca0d21-992f-4eb9-93e2-f6ebacf98aa6\",\"subtype\":\"Figure\",\"type\":\"Plot\"}},\"id\":\"6210f3f3-b9e2-489a-abbd-eb12f155971e\",\"type\":\"ResetTool\"},{\"attributes\":{},\"id\":\"71d76fb5-3282-4bdc-af7b-5dc6fa5636ee\",\"type\":\"BasicTicker\"},{\"attributes\":{\"overlay\":{\"id\":\"547bd621-b2f0-4a70-a734-e115fdee0452\",\"type\":\"BoxAnnotation\"},\"plot\":{\"id\":\"c6ca0d21-992f-4eb9-93e2-f6ebacf98aa6\",\"subtype\":\"Figure\",\"type\":\"Plot\"}},\"id\":\"636ae854-24c9-4cbb-9a79-cf55eb1b08d4\",\"type\":\"BoxZoomTool\"},{\"attributes\":{\"bottom_units\":\"screen\",\"fill_alpha\":{\"value\":0.5},\"fill_color\":{\"value\":\"lightgrey\"},\"left_units\":\"screen\",\"level\":\"overlay\",\"line_alpha\":{\"value\":1.0},\"line_color\":{\"value\":\"black\"},\"line_dash\":[4,4],\"line_width\":{\"value\":2},\"plot\":null,\"render_mode\":\"css\",\"right_units\":\"screen\",\"top_units\":\"screen\"},\"id\":\"547bd621-b2f0-4a70-a734-e115fdee0452\",\"type\":\"BoxAnnotation\"},{\"attributes\":{\"fill_color\":{\"value\":\"#1f77b4\"},\"line_width\":{\"value\":0.5},\"xs\":{\"field\":\"x\"},\"ys\":{\"field\":\"y\"}},\"id\":\"d0a9ef18-54d4-42c2-af26-4fa68b402e8b\",\"type\":\"Patches\"},{\"attributes\":{\"callback\":null},\"id\":\"9c81c513-9934-49dc-8b49-41d69925a41a\",\"type\":\"DataRange1d\"},{\"attributes\":{\"dimension\":1,\"grid_line_color\":{\"value\":null},\"plot\":{\"id\":\"c6ca0d21-992f-4eb9-93e2-f6ebacf98aa6\",\"subtype\":\"Figure\",\"type\":\"Plot\"},\"ticker\":{\"id\":\"71d76fb5-3282-4bdc-af7b-5dc6fa5636ee\",\"type\":\"BasicTicker\"}},\"id\":\"7cbd4dac-ca12-4898-abcd-27d832c56a14\",\"type\":\"Grid\"},{\"attributes\":{\"plot\":null,\"text\":null},\"id\":\"4cb96af2-a883-4932-9737-08c97fe81abe\",\"type\":\"Title\"},{\"attributes\":{\"plot\":{\"id\":\"c6ca0d21-992f-4eb9-93e2-f6ebacf98aa6\",\"subtype\":\"Figure\",\"type\":\"Plot\"}},\"id\":\"5f7bbdee-5f06-44db-89c1-9399046dde24\",\"type\":\"WheelZoomTool\"},{\"attributes\":{},\"id\":\"8e3f9070-201e-4832-818b-cdaf807415d3\",\"type\":\"BasicTicker\"},{\"attributes\":{\"active_drag\":\"auto\",\"active_scroll\":\"auto\",\"active_tap\":\"auto\",\"tools\":[{\"id\":\"46cee7d9-e7a3-4e19-a246-1c1ded33d72a\",\"type\":\"PanTool\"},{\"id\":\"5f7bbdee-5f06-44db-89c1-9399046dde24\",\"type\":\"WheelZoomTool\"},{\"id\":\"636ae854-24c9-4cbb-9a79-cf55eb1b08d4\",\"type\":\"BoxZoomTool\"},{\"id\":\"6210f3f3-b9e2-489a-abbd-eb12f155971e\",\"type\":\"ResetTool\"},{\"id\":\"2c5b0408-287c-4d8b-9c4b-e301be56f283\",\"type\":\"HoverTool\"}]},\"id\":\"60efa8e1-8d27-4a8b-b92e-e842847ec261\",\"type\":\"Toolbar\"},{\"attributes\":{},\"id\":\"06ffc6c4-ee7b-4d3e-bfa9-5e0aed61b166\",\"type\":\"ToolEvents\"},{\"attributes\":{\"data_source\":{\"id\":\"9ce1d78d-0f92-4551-8669-b53c4a69d1d2\",\"type\":\"ColumnDataSource\"},\"glyph\":{\"id\":\"d0a9ef18-54d4-42c2-af26-4fa68b402e8b\",\"type\":\"Patches\"},\"hover_glyph\":null,\"nonselection_glyph\":{\"id\":\"b71f2d77-4967-414f-b086-be39857020c4\",\"type\":\"Patches\"},\"selection_glyph\":null},\"id\":\"0fa4bd9e-9642-4b1b-a46c-9c40669baa66\",\"type\":\"GlyphRenderer\"}],\"root_ids\":[\"c6ca0d21-992f-4eb9-93e2-f6ebacf98aa6\"]},\"title\":\"Bokeh Application\",\"version\":\"0.12.0\"}};\n",
       "            var render_items = [{\"docid\":\"4a5b41a5-2ca6-44f0-8d2e-db2cf5964d50\",\"elementid\":\"e705b66f-a8c7-455e-8ea4-51b78d7b3d1d\",\"modelid\":\"c6ca0d21-992f-4eb9-93e2-f6ebacf98aa6\",\"notebook_comms_target\":\"b390c5e3-b171-4435-a6e2-679ee5cbcec9\"}];\n",
       "            \n",
       "            Bokeh.embed.embed_items(docs_json, render_items);\n",
       "        });\n",
       "      },\n",
       "      function(Bokeh) {\n",
       "      }\n",
       "    ];\n",
       "  \n",
       "    function run_inline_js() {\n",
       "      for (var i = 0; i < inline_js.length; i++) {\n",
       "        inline_js[i](window.Bokeh);\n",
       "      }\n",
       "    }\n",
       "  \n",
       "    if (window._bokeh_is_loading === 0) {\n",
       "      console.log(\"Bokeh: BokehJS loaded, going straight to plotting\");\n",
       "      run_inline_js();\n",
       "    } else {\n",
       "      load_libs(js_urls, function() {\n",
       "        console.log(\"Bokeh: BokehJS plotting callback run at\", now());\n",
       "        run_inline_js();\n",
       "      });\n",
       "    }\n",
       "  }(this));\n",
       "</script>"
      ]
     },
     "metadata": {},
     "output_type": "display_data"
    },
    {
     "data": {
      "text/html": [
       "<p><code>&lt;Bokeh Notebook handle for <strong>In[8]</strong>&gt;</code></p>"
      ],
      "text/plain": [
       "<bokeh.io._CommsHandle at 0x121361250>"
      ]
     },
     "execution_count": 8,
     "metadata": {},
     "output_type": "execute_result"
    }
   ],
   "source": [
    "TOOLS=\"pan,wheel_zoom,box_zoom,reset,hover\"\n",
    "p = figure(tools=TOOLS, x_axis_location=None, y_axis_location=None)\n",
    "p.grid.grid_line_color = None\n",
    "\n",
    "p.patches('x', 'y', source=cds,\n",
    "  fill_alpha=1.,\n",
    "  line_color='black', \n",
    "  line_width=0.5\n",
    "  )\n",
    "\n",
    "show(p)"
   ]
  },
  {
   "cell_type": "code",
   "execution_count": null,
   "metadata": {
    "collapsed": false,
    "scrolled": false
   },
   "outputs": [],
   "source": [
    "reload(maps);\n",
    "\n",
    "maps.plot_geocol_bk(db.loc[:, 'geometry'], linewidth=10)"
   ]
  },
  {
   "cell_type": "code",
   "execution_count": null,
   "metadata": {
    "collapsed": false,
    "scrolled": false
   },
   "outputs": [],
   "source": [
    "db = pdio.read_files(ps.examples.get_path('columbus.shp'))\n",
    "db"
   ]
  }
 ],
 "metadata": {
  "kernelspec": {
   "display_name": "Python 2",
   "language": "python",
   "name": "python2"
  },
  "language_info": {
   "codemirror_mode": {
    "name": "ipython",
    "version": 2
   },
   "file_extension": ".py",
   "mimetype": "text/x-python",
   "name": "python",
   "nbconvert_exporter": "python",
   "pygments_lexer": "ipython2",
   "version": "2.7.11"
  }
 },
 "nbformat": 4,
 "nbformat_minor": 0
}
