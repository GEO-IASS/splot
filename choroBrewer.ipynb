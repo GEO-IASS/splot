{
 "cells": [
  {
   "cell_type": "markdown",
   "metadata": {},
   "source": [
    "Install the lastest widgets code...\n",
    "\n",
    "```conda install -c conda-forge ipywidgets```"
   ]
  },
  {
   "cell_type": "code",
   "execution_count": 1,
   "metadata": {
    "collapsed": false
   },
   "outputs": [],
   "source": [
    "from ipywidgets import Dropdown, RadioButtons, IntSlider, VBox, FloatSlider, Button\n",
    "from IPython.display import display"
   ]
  },
  {
   "cell_type": "code",
   "execution_count": 2,
   "metadata": {
    "collapsed": false
   },
   "outputs": [],
   "source": [
    "data_type = RadioButtons(options=['sequential', 'diverging', 'qualitative'])\n",
    "\n",
    "bindings = {'sequential': range(3,9+1),\n",
    "            'diverging': range(3,11+1),\n",
    "            'qualitative': range(3,12+1)}\n",
    "\n",
    "class_val = Dropdown(options=bindings[data_type.value])    \n",
    "\n",
    "def type_change(change):\n",
    "    class_val.options = bindings[change['new']]\n",
    "\n",
    "data_type.observe(type_change, names=['value'])\n",
    "\n",
    "display(VBox([data_type, class_val]))"
   ]
  },
  {
   "cell_type": "code",
   "execution_count": 3,
   "metadata": {
    "collapsed": false
   },
   "outputs": [
    {
     "name": "stderr",
     "output_type": "stream",
     "text": [
      "/home/serge/Dropbox/p/pysal/src/pysal/pysal/core/IOHandlers/__init__.py:25: UserWarning: SQLAlchemy and Geomet not installed, database I/O disabled\n",
      "  warnings.warn('SQLAlchemy and Geomet not installed, database I/O disabled')\n"
     ]
    }
   ],
   "source": [
    "\"\"\"\n",
    "data_type = RadioButtons(options=['sequential', 'diverging', 'qualitative'])\n",
    "\n",
    "bindings = {'sequential': range(3,9+1),\n",
    "            'diverging': range(3,11+1),\n",
    "            'qualitative': range(3,12+1)}\n",
    "\n",
    "class_val = Dropdown(options=bindings[data_type.value])    \n",
    "\n",
    "def type_change(change):\n",
    "    class_val.options = bindings[change['new']]\n",
    "\n",
    "data_type.observe(type_change, names=['value'])\n",
    "\n",
    "display(VBox([data_type, class_val]))\n",
    "\"\"\"\n",
    "# on data_type change update list of color maps\n",
    "# based on class_val and data_type\n",
    "\n",
    "from pysal.contrib.viz.color import color_display_types\n",
    "\n",
    "dt = sorted(color_display_types.keys(), reverse=True)\n",
    "data_type = RadioButtons(description='Data Type', options=dt)\n",
    "bindings = {}\n",
    "for t in dt:\n",
    "    bindings[t] = color_display_types[t].keys()\n",
    "    \n",
    "cmap = Dropdown(description='CMap:', options=bindings[data_type.value])\n",
    "\n",
    "def type_change(change):\n",
    "    with cmap.hold_trait_notifications():\n",
    "        cmap.options = bindings[change['new']]\n",
    "\n",
    "data_type.observe(type_change, names=['value'])\n",
    "\n",
    "display(VBox([data_type, cmap]))\n",
    "\n"
   ]
  },
  {
   "cell_type": "code",
   "execution_count": 4,
   "metadata": {
    "collapsed": false
   },
   "outputs": [],
   "source": [
    "\"\"\"\n",
    "data_type = RadioButtons(options=['sequential', 'diverging', 'qualitative'])\n",
    "\n",
    "bindings = {'sequential': range(3,9+1),\n",
    "            'diverging': range(3,11+1),\n",
    "            'qualitative': range(3,12+1)}\n",
    "\n",
    "class_val = Dropdown(options=bindings[data_type.value])    \n",
    "\n",
    "def type_change(change):\n",
    "    class_val.options = bindings[change['new']]\n",
    "\n",
    "data_type.observe(type_change, names=['value'])\n",
    "\n",
    "display(VBox([data_type, class_val]))\n",
    "\"\"\"\n",
    "# on data_type change update list of color maps\n",
    "# based on class_val and data_type\n",
    "\n",
    "from pysal.contrib.viz.color import color_display_types\n",
    "from pysal.contrib.viz.color import plot_cmaps as pcmaps\n",
    "\n",
    "dt = sorted(color_display_types.keys(), reverse=True)\n",
    "data_type = RadioButtons(description='Data Type', options=dt)\n",
    "bindings = {}\n",
    "for t in dt:\n",
    "    bindings[t] = color_display_types[t].keys()\n",
    "    \n",
    "cmap = Dropdown(description='CMap:', options=bindings[data_type.value])\n",
    "\n",
    "def type_change(change):\n",
    "    with cmap.hold_trait_notifications():\n",
    "        cmap.options = bindings[change['new']]\n",
    "\n",
    "data_type.observe(type_change, names=['value'])  \n",
    "\n",
    "display(VBox([data_type, cmap]))\n",
    "\n"
   ]
  },
  {
   "cell_type": "code",
   "execution_count": 5,
   "metadata": {
    "collapsed": false
   },
   "outputs": [
    {
     "data": {
      "image/png": "[encoded data removed]",
      "text/plain": [
       "<matplotlib.figure.Figure at 0x7f7fd17eea90>"
      ]
     },
     "metadata": {},
     "output_type": "display_data"
    }
   ],
   "source": [
    "%matplotlib inline\n",
    "from pysal.contrib.viz.color import plot_cmaps \n",
    "plot_cmaps('sequential', selected=3)"
   ]
  },
  {
   "cell_type": "code",
   "execution_count": 6,
   "metadata": {
    "collapsed": false
   },
   "outputs": [
    {
     "data": {
      "image/png": "[encoded data removed]",
      "text/plain": [
       "<matplotlib.figure.Figure at 0x7f7f9fb14a90>"
      ]
     },
     "metadata": {},
     "output_type": "display_data"
    }
   ],
   "source": [
    "\"\"\"\n",
    "data_type = RadioButtons(options=['sequential', 'diverging', 'qualitative'])\n",
    "\n",
    "bindings = {'sequential': range(3,9+1),\n",
    "            'diverging': range(3,11+1),\n",
    "            'qualitative': range(3,12+1)}\n",
    "\n",
    "class_val = Dropdown(options=bindings[data_type.value])    \n",
    "\n",
    "def type_change(change):\n",
    "    class_val.options = bindings[change['new']]\n",
    "\n",
    "data_type.observe(type_change, names=['value'])\n",
    "\n",
    "display(VBox([data_type, class_val]))\n",
    "\"\"\"\n",
    "# on data_type change update list of color maps\n",
    "# based on class_val and data_type\n",
    "\n",
    "from pysal.contrib.viz.color import color_display_types\n",
    "from pysal.contrib.viz.color import plot_cmaps as pcmaps\n",
    "from ipywidgets import interact\n",
    "\n",
    "dt = sorted(color_display_types.keys(), reverse=True)\n",
    "data_type = RadioButtons(description='Data Type', options=dt)\n",
    "bindings = {}\n",
    "for t in dt:\n",
    "    bindings[t] = color_display_types[t].keys()\n",
    "    \n",
    "cmap_dd = Dropdown(description='CMap:', options=bindings[data_type.value])\n",
    "\n",
    "def type_change(change):\n",
    "    with cmap_dd.hold_trait_notifications():\n",
    "        cmap_dd.options = bindings[change['new']]\n",
    "        #plot_cmaps('diverging')\n",
    "\n",
    "def cmap_change(change):\n",
    "        with cmap_dd.hold_trait_notifications():\n",
    "            print('new cmap', str(change['new']))\n",
    "\n",
    "data_type.observe(type_change, names=['value'])  \n",
    "cmap_dd.observe(cmap_change, names=['value'])\n",
    "\n",
    "#display(VBox([data_type, cmap]))\n",
    "@interact(cmap=cmap_dd, data_type=data_type)\n",
    "def plot_cmaps(data_type, cmap):\n",
    "    #print(data_type,cmap)\n",
    "    i = cmap_dd.options.index(cmap)\n",
    "    pcmaps(data_type, i)\n"
   ]
  },
  {
   "cell_type": "code",
   "execution_count": 7,
   "metadata": {
    "collapsed": false
   },
   "outputs": [
    {
     "data": {
      "image/png": "[encoded data removed]",
      "text/plain": [
       "<matplotlib.figure.Figure at 0x7f7f9fb59610>"
      ]
     },
     "metadata": {},
     "output_type": "display_data"
    }
   ],
   "source": [
    "\"\"\"\n",
    "data_type = RadioButtons(options=['sequential', 'diverging', 'qualitative'])\n",
    "\n",
    "bindings = {'sequential': range(3,9+1),\n",
    "            'diverging': range(3,11+1),\n",
    "            'qualitative': range(3,12+1)}\n",
    "\n",
    "class_val = Dropdown(options=bindings[data_type.value])    \n",
    "\n",
    "def type_change(change):\n",
    "    class_val.options = bindings[change['new']]\n",
    "\n",
    "data_type.observe(type_change, names=['value'])\n",
    "\n",
    "display(VBox([data_type, class_val]))\n",
    "\"\"\"\n",
    "# on data_type change update list of color maps\n",
    "# based on class_val and data_type\n",
    "\n",
    "from pysal.contrib.viz.color import color_display_types\n",
    "from pysal.contrib.viz.color import plot_cmaps as pcmaps\n",
    "from ipywidgets import interact\n",
    "\n",
    "dt = sorted(color_display_types.keys(), reverse=True)\n",
    "data_type = RadioButtons(description='Data Type', options=dt)\n",
    "bindings = {}\n",
    "for t in dt:\n",
    "    bindings[t] = color_display_types[t].keys()\n",
    "    \n",
    "cmap_dd = Dropdown(description='CMap:', options=bindings[data_type.value])\n",
    "\n",
    "def type_change(change):\n",
    "    with cmap_dd.hold_trait_notifications():\n",
    "        cmap_dd.options = bindings[change['new']]\n",
    "        #plot_cmaps('diverging')\n",
    "\n",
    "def cmap_change(change):\n",
    "        with cmap_dd.hold_trait_notifications():\n",
    "            print('new cmap', str(change['new']))\n",
    "\n",
    "data_type.observe(type_change, names=['value'])  \n",
    "cmap_dd.observe(cmap_change, names=['value'])\n",
    "\n",
    "display(VBox([data_type]))\n",
    "@interact(cmap=cmap_dd)\n",
    "def plot_cmaps(cmap):\n",
    "    #print(data_type,cmap)\n",
    "    i = cmap_dd.options.index(cmap)\n",
    "    pcmaps(data_type.value, i)\n"
   ]
  },
  {
   "cell_type": "code",
   "execution_count": 8,
   "metadata": {
    "collapsed": false
   },
   "outputs": [
    {
     "name": "stdout",
     "output_type": "stream",
     "text": [
      "('sequential', u'Reds', 3)\n"
     ]
    },
    {
     "data": {
      "image/png": "[encoded data removed]",
      "text/plain": [
       "<matplotlib.figure.Figure at 0x7f7f9f8cae50>"
      ]
     },
     "metadata": {},
     "output_type": "display_data"
    }
   ],
   "source": [
    "# adding k\n",
    "\n",
    "# on data_type change update list of color maps\n",
    "# based on class_val and data_type\n",
    "\n",
    "from pysal.contrib.viz.color import color_display_types\n",
    "from pysal.contrib.viz.color import plot_cmaps as pcmaps\n",
    "from pysal.contrib.viz.color import get_color_map\n",
    "from ipywidgets import interact\n",
    "\n",
    "dt = sorted(color_display_types.keys(), reverse=True)\n",
    "data_type = RadioButtons(description='Data Type', options=dt)\n",
    "bindings = {}\n",
    "for t in dt:\n",
    "    bindings[t] = color_display_types[t].keys()\n",
    "    \n",
    "cmap_dd = Dropdown(description='CMap:', options=bindings[data_type.value])\n",
    "\n",
    "def type_change(change):\n",
    "    with cmap_dd.hold_trait_notifications():\n",
    "        cmap_dd.options = bindings[change['new']]\n",
    "        k_dd.options = kbindings[change['new']]\n",
    "        #plot_cmaps('diverging')\n",
    "\n",
    "def cmap_change(change):\n",
    "        with cmap_dd.hold_trait_notifications():\n",
    "            print('new cmap', str(change['new']))\n",
    "\n",
    "data_type.observe(type_change, names=['value'])  \n",
    "cmap_dd.observe(cmap_change, names=['value'])\n",
    "kbindings = {'sequential': range(3,9+1),\n",
    "            'qualitative': range(3,12+1),\n",
    "            'diverging': range(3,11+1)}\n",
    "k_dd = Dropdown(description='k', options=kbindings[data_type.value])\n",
    "\n",
    "display(VBox([data_type, k_dd]))\n",
    "@interact(cmap=cmap_dd)\n",
    "def plot_cmaps(cmap):\n",
    "    #print(data_type,cmap)\n",
    "    i = cmap_dd.options.index(cmap)\n",
    "    pcmaps(data_type.value, i)\n",
    "    print(data_type.value,cmap, k_dd.value)\n",
    "\n"
   ]
  },
  {
   "cell_type": "code",
   "execution_count": 9,
   "metadata": {
    "collapsed": false
   },
   "outputs": [
    {
     "data": {
      "image/png": "[encoded data removed]",
      "text/plain": [
       "<matplotlib.figure.Figure at 0x7f7f9f6f8d90>"
      ]
     },
     "metadata": {},
     "output_type": "display_data"
    }
   ],
   "source": [
    "# adding button\n",
    "\n",
    "# on data_type change update list of color maps\n",
    "# based on class_val and data_type\n",
    "\n",
    "from pysal.contrib.viz.color import color_display_types\n",
    "from pysal.contrib.viz.color import plot_cmaps as pcmaps\n",
    "from pysal.contrib.viz.color import get_color_map\n",
    "from ipywidgets import interact\n",
    "\n",
    "dt = sorted(color_display_types.keys(), reverse=True)\n",
    "data_type = RadioButtons(description='Data Type', options=dt)\n",
    "bindings = {}\n",
    "for t in dt:\n",
    "    bindings[t] = color_display_types[t].keys()\n",
    "    \n",
    "cmap_dd = Dropdown(description='CMap:', options=bindings[data_type.value])\n",
    "\n",
    "def type_change(change):\n",
    "    with cmap_dd.hold_trait_notifications():\n",
    "        cmap_dd.options = bindings[change['new']]\n",
    "        k_dd.options = kbindings[change['new']]\n",
    "        #plot_cmaps('diverging')\n",
    "\n",
    "def cmap_change(change):\n",
    "        with cmap_dd.hold_trait_notifications():\n",
    "            print('new cmap', str(change['new']))\n",
    "\n",
    "data_type.observe(type_change, names=['value'])  \n",
    "cmap_dd.observe(cmap_change, names=['value'])\n",
    "kbindings = {'sequential': range(3,9+1),\n",
    "            'qualitative': range(3,12+1),\n",
    "            'diverging': range(3,11+1)}\n",
    "k_dd = Dropdown(description='k', options=kbindings[data_type.value])\n",
    "def button_clicked(btn):\n",
    "    print(data_type.value, cmap_dd.value, k_dd.value)\n",
    "\n",
    "btn = Button(description=\"Display Map\")\n",
    "btn.on_click(button_clicked)\n",
    "display(btn)\n",
    "display(VBox([data_type, k_dd]))\n",
    "@interact(cmap=cmap_dd)\n",
    "def plot_cmaps(cmap):\n",
    "    #print(data_type,cmap)\n",
    "    i = cmap_dd.options.index(cmap)\n",
    "    pcmaps(data_type.value, i)\n",
    "    #print(data_type.value,cmap, k_dd.value)\n",
    "\n"
   ]
  },
  {
   "cell_type": "code",
   "execution_count": 10,
   "metadata": {
    "collapsed": false
   },
   "outputs": [
    {
     "data": {
      "image/png": "[encoded data removed]",
      "text/plain": [
       "<matplotlib.figure.Figure at 0x7f7f9f559f10>"
      ]
     },
     "metadata": {},
     "output_type": "display_data"
    }
   ],
   "source": [
    "\n",
    "# on data_type change update list of color maps\n",
    "# based on class_val and data_type\n",
    "\n",
    "from pysal.contrib.viz.color import color_display_types\n",
    "from pysal.contrib.viz.color import plot_cmaps as pcmaps\n",
    "from pysal.contrib.viz.color import get_color_map\n",
    "from ipywidgets import interact\n",
    "\n",
    "dt = sorted(color_display_types.keys(), reverse=True)\n",
    "data_type = RadioButtons(description='Data Type', options=dt)\n",
    "bindings = {}\n",
    "for t in dt:\n",
    "    bindings[t] = color_display_types[t].keys()\n",
    "    \n",
    "cmap_dd = Dropdown(description='CMap:', options=bindings[data_type.value])\n",
    "\n",
    "def type_change(change):\n",
    "    with cmap_dd.hold_trait_notifications():\n",
    "        cmap_dd.options = bindings[change['new']]\n",
    "        k_dd.options = kbindings[change['new']]\n",
    "        #plot_cmaps('diverging')\n",
    "\n",
    "def cmap_change(change):\n",
    "        with cmap_dd.hold_trait_notifications():\n",
    "            print('new cmap', str(change['new']))\n",
    "\n",
    "data_type.observe(type_change, names=['value'])  \n",
    "cmap_dd.observe(cmap_change, names=['value'])\n",
    "kbindings = {'sequential': range(3,9+1),\n",
    "            'qualitative': range(3,12+1),\n",
    "            'diverging': range(3,11+1)}\n",
    "k_dd = Dropdown(description='k', options=kbindings[data_type.value])\n",
    "def button_clicked(btn):\n",
    "    print(data_type.value, cmap_dd.value, k_dd.value)\n",
    "\n",
    "btn = Button(description=\"Display Map\")\n",
    "btn.on_click(button_clicked)\n",
    "display(btn)\n",
    "display(VBox([data_type, k_dd]))\n",
    "@interact(cmap=cmap_dd)\n",
    "def plot_cmaps(cmap):\n",
    "    #print(data_type,cmap)\n",
    "    i = cmap_dd.options.index(cmap)\n",
    "    pcmaps(data_type.value, i)\n",
    "    #print(data_type.value,cmap, k_dd.value)\n",
    "\n"
   ]
  },
  {
   "cell_type": "code",
   "execution_count": 11,
   "metadata": {
    "collapsed": false
   },
   "outputs": [],
   "source": [
    "import pysal as ps\n",
    "from pysal.contrib import pdio\n",
    "db = pdio.read_files(ps.examples.get_path('columbus.shp'))\n"
   ]
  },
  {
   "cell_type": "code",
   "execution_count": 12,
   "metadata": {
    "collapsed": false
   },
   "outputs": [
    {
     "data": {
      "image/png": "[encoded data removed]",
      "text/plain": [
       "<matplotlib.figure.Figure at 0x7f7f9f378990>"
      ]
     },
     "metadata": {},
     "output_type": "display_data"
    }
   ],
   "source": [
    "from pysal.contrib.viz import mapping as maps\n",
    "maps.geoplot(db,'HOVAL', figsize=(4,4))"
   ]
  },
  {
   "cell_type": "code",
   "execution_count": 13,
   "metadata": {
    "collapsed": false
   },
   "outputs": [
    {
     "data": {
      "image/png": "[encoded data removed]",
      "text/plain": [
       "<matplotlib.figure.Figure at 0x7f7f9f9bafd0>"
      ]
     },
     "metadata": {},
     "output_type": "display_data"
    },
    {
     "data": {
      "image/png": "[encoded data removed]",
      "text/plain": [
       "<matplotlib.figure.Figure at 0x7f7f9f3083d0>"
      ]
     },
     "metadata": {},
     "output_type": "display_data"
    }
   ],
   "source": [
    "# adding map\n",
    "\n",
    "# on data_type change update list of color maps\n",
    "# based on class_val and data_type\n",
    "\n",
    "from pysal.contrib.viz.color import color_display_types\n",
    "from pysal.contrib.viz.color import plot_cmaps as pcmaps\n",
    "from pysal.contrib.viz.color import get_color_map\n",
    "from ipywidgets import interact\n",
    "\n",
    "dt = sorted(color_display_types.keys(), reverse=True)\n",
    "data_type = RadioButtons(description='Data Type', options=dt)\n",
    "bindings = {}\n",
    "for t in dt:\n",
    "    bindings[t] = color_display_types[t].keys()\n",
    "    \n",
    "cmap_dd = Dropdown(description='CMap:', options=bindings[data_type.value])\n",
    "\n",
    "def type_change(change):\n",
    "    with cmap_dd.hold_trait_notifications():\n",
    "        cmap_dd.options = bindings[change['new']]\n",
    "        k_dd.options = kbindings[change['new']]\n",
    "        #plot_cmaps('diverging')\n",
    "\n",
    "def cmap_change(change):\n",
    "        with cmap_dd.hold_trait_notifications():\n",
    "            print('new cmap', str(change['new']))\n",
    "\n",
    "data_type.observe(type_change, names=['value'])  \n",
    "cmap_dd.observe(cmap_change, names=['value'])\n",
    "kbindings = {'sequential': range(3,9+1),\n",
    "            'qualitative': range(3,12+1),\n",
    "            'diverging': range(3,11+1)}\n",
    "k_dd = Dropdown(description='k', options=kbindings[data_type.value])\n",
    "def button_clicked(btn):\n",
    "    maps.geoplot(db, 'HOVAL', k=int(k_dd.value),\n",
    "                palette=cmap_dd.value, dtype=data_type.value,\n",
    "                figsize=(5, 5))\n",
    "    \n",
    "\n",
    "btn = Button(description=\"Display Map\")\n",
    "btn.on_click(button_clicked)\n",
    "display(btn)\n",
    "display(VBox([data_type, k_dd]))\n",
    "@interact(cmap=cmap_dd)\n",
    "def plot_cmaps(cmap):\n",
    "    i = cmap_dd.options.index(cmap)\n",
    "    pcmaps(data_type.value, i)\n",
    "    maps.geoplot(db, 'HOVAL', k=int(k_dd.value),\n",
    "                palette=cmap_dd.value, dtype=data_type.value,\n",
    "                figsize=(5, 5))\n",
    "    \n",
    "\n"
   ]
  },
  {
   "cell_type": "code",
   "execution_count": 14,
   "metadata": {
    "collapsed": false
   },
   "outputs": [
    {
     "data": {
      "image/png": "[encoded data removed]",
      "text/plain": [
       "<matplotlib.figure.Figure at 0x7f7f9eacfd10>"
      ]
     },
     "metadata": {},
     "output_type": "display_data"
    },
    {
     "data": {
      "image/png": "[encoded data removed]",
      "text/plain": [
       "<matplotlib.figure.Figure at 0x7f7f9f970e90>"
      ]
     },
     "metadata": {},
     "output_type": "display_data"
    }
   ],
   "source": [
    "# adding map\n",
    "\n",
    "# on data_type change update list of color maps\n",
    "# based on class_val and data_type\n",
    "\n",
    "from pysal.contrib.viz.color import color_display_types\n",
    "from pysal.contrib.viz.color import plot_cmaps as pcmaps\n",
    "from pysal.contrib.viz.color import get_color_map\n",
    "from ipywidgets import interact\n",
    "\n",
    "dt = sorted(color_display_types.keys(), reverse=True)\n",
    "data_type = RadioButtons(description='Data Type', options=dt)\n",
    "bindings = {}\n",
    "for t in dt:\n",
    "    bindings[t] = color_display_types[t].keys()\n",
    "    \n",
    "cmap_dd = Dropdown(description='CMap:', options=bindings[data_type.value])\n",
    "\n",
    "def type_change(change):\n",
    "    with cmap_dd.hold_trait_notifications():\n",
    "        cmap_dd.options = bindings[change['new']]\n",
    "        k_dd.options = kbindings[change['new']]\n",
    "        #plot_cmaps('diverging')\n",
    "\n",
    "def cmap_change(change):\n",
    "        with cmap_dd.hold_trait_notifications():\n",
    "            print('new cmap', str(change['new']))\n",
    "\n",
    "data_type.observe(type_change, names=['value'])  \n",
    "cmap_dd.observe(cmap_change, names=['value'])\n",
    "kbindings = {'sequential': range(3,9+1),\n",
    "            'qualitative': range(3,12+1),\n",
    "            'diverging': range(3,11+1)}\n",
    "k_dd = Dropdown(description='k', options=kbindings[data_type.value])\n",
    "\n",
    "display(VBox([data_type, k_dd]))\n",
    "@interact(cmap=cmap_dd)\n",
    "def plot_cmaps(cmap):\n",
    "    i = cmap_dd.options.index(cmap)\n",
    "    pcmaps(data_type.value, i)\n",
    "    maps.geoplot(db, 'HOVAL', k=int(k_dd.value),\n",
    "                palette=cmap_dd.value, dtype=data_type.value,\n",
    "                figsize=(5, 5))\n",
    "    \n",
    "\n"
   ]
  },
  {
   "cell_type": "code",
   "execution_count": null,
   "metadata": {
    "collapsed": false
   },
   "outputs": [],
   "source": []
  },
  {
   "cell_type": "code",
   "execution_count": null,
   "metadata": {
    "collapsed": true
   },
   "outputs": [],
   "source": []
  },
  {
   "cell_type": "code",
   "execution_count": null,
   "metadata": {
    "collapsed": true
   },
   "outputs": [],
   "source": []
  },
  {
   "cell_type": "code",
   "execution_count": null,
   "metadata": {
    "collapsed": true
   },
   "outputs": [],
   "source": []
  },
  {
   "cell_type": "code",
   "execution_count": null,
   "metadata": {
    "collapsed": true
   },
   "outputs": [],
   "source": []
  },
  {
   "cell_type": "code",
   "execution_count": null,
   "metadata": {
    "collapsed": true
   },
   "outputs": [],
   "source": []
  }
 ],
 "metadata": {
  "anaconda-cloud": {},
  "kernelspec": {
   "display_name": "Python 2",
   "language": "python",
   "name": "python2"
  },
  "language_info": {
   "codemirror_mode": {
    "name": "ipython",
    "version": 2
   },
   "file_extension": ".py",
   "mimetype": "text/x-python",
   "name": "python",
   "nbconvert_exporter": "python",
   "pygments_lexer": "ipython2",
   "version": "2.7.12"
  },
  "widgets": {
   "state": {
    "00fd5e4874154aa480ff6b351b6aae9a": {
     "views": []
    },
    "021bdb6353b048239936aea5850aeb1b": {
     "views": [
      {
       "cell_index": 6
      }
     ]
    },
    "0289002552684c528b802caf02c06d9e": {
     "views": []
    },
    "03721d8162a34181be50f8563a8f7d74": {
     "views": []
    },
    "048a13d0b51c42e89924771910f5442a": {
     "views": []
    },
    "04a497e1c71d457eb933f54eea5a4167": {
     "views": []
    },
    "06d66cb248724757af5109aee1e3ddfe": {
     "views": []
    },
    "077d9f0e29134899b2ca425782073502": {
     "views": [
      {
       "cell_index": 10
      }
     ]
    },
    "0937fd389a004bdd956897a353d4efaa": {
     "views": []
    },
    "09c886495cf54a7ab376c59fa4de753a": {
     "views": []
    },
    "0a16bb9443ca43859c3b825fb504d1e7": {
     "views": []
    },
    "0a20c7902e934e3eb55f6289cfe91a82": {
     "views": []
    },
    "0ae7cccaf2b14699a879c8507c3fdb9f": {
     "views": []
    },
    "0aee039893634f88b758488a196bda96": {
     "views": []
    },
    "0b15853afebf48b49bdee1e2b2bb2426": {
     "views": []
    },
    "0baa5786e6224b94ae887cd2ec6de3ab": {
     "views": []
    },
    "0bc3e8fbae694f3c8f2a27ceff8d515f": {
     "views": []
    },
    "0cea1be6d488421792ce4a75f46279a8": {
     "views": [
      {
       "cell_index": 13
      }
     ]
    },
    "0d324db3cb28437c8c00cb95656128e2": {
     "views": []
    },
    "0dcb34265ff34b47b28a52465c06eb6d": {
     "views": []
    },
    "0ee58473711e4ab2aa054aee5e1db66a": {
     "views": []
    },
    "0f0b2b52ef1d440689e72afbc7a9363d": {
     "views": []
    },
    "0f4d0df3390b484fa35435fe0317d419": {
     "views": []
    },
    "0fefefbdd83b425b818d4e0749fd876e": {
     "views": []
    },
    "0ff50b366a494f289dedd62544d2b423": {
     "views": [
      {
       "cell_index": 8
      }
     ]
    },
    "107be3710db94a5ca8e96483ca6e9da2": {
     "views": []
    },
    "12895fb400e041b8ab096e1219b3e014": {
     "views": []
    },
    "140bbe4ee7d942aca96d823a448344dd": {
     "views": []
    },
    "14977d80fb794f929d43d3ac48371e05": {
     "views": []
    },
    "14c899c2bcc5443e9e2cd4dd03905d29": {
     "views": [
      {
       "cell_index": 14
      }
     ]
    },
    "14cd2af2e689429486d258aa01724ecf": {
     "views": []
    },
    "1510bac63b86457f889c29f80ea0b15b": {
     "views": []
    },
    "18556347342a4e98adc906dd1d175485": {
     "views": []
    },
    "18f63cfc12474bd3b8bdbc7fd65a61b0": {
     "views": []
    },
    "1919aaa8686e42e482fd145f284a21f8": {
     "views": []
    },
    "1a95964a7b0641a79f63a1c04c1bb126": {
     "views": []
    },
    "1ae4b49e6cda4d1f8e5e84379250347c": {
     "views": []
    },
    "1b59bec1f08443059046b03445441a5f": {
     "views": []
    },
    "1ba81cdadc2b4239ac8793595fe3d585": {
     "views": []
    },
    "1da9f2c62a3b49ada473e77f36782a3d": {
     "views": []
    },
    "1e3e6f7f7228450e861f6db8c720b716": {
     "views": []
    },
    "1f59cda7cece49639847f16000c9bbfc": {
     "views": [
      {
       "cell_index": 13
      }
     ]
    },
    "1f6441381de5435b85376a6202ae903c": {
     "views": []
    },
    "2031a7d0a05046cbb834491d446ac4d5": {
     "views": []
    },
    "21b87202601947d9a3d0e2e324cb2581": {
     "views": []
    },
    "2381349302654aba9a05edc2f4f58e81": {
     "views": []
    },
    "2418011e418a4410a6e59ba16665bf44": {
     "views": []
    },
    "24ea802272064733badceb62c5405b33": {
     "views": []
    },
    "25d544696c864c92ad01de8887eb6159": {
     "views": []
    },
    "27335fff730b44168aa265f1e08e01b5": {
     "views": []
    },
    "281c8f4d653d41db9869763e5137f798": {
     "views": []
    },
    "28b81209b02148299cd5e00b9857c04c": {
     "views": []
    },
    "29877a173bd943249d1da369b8a077a1": {
     "views": []
    },
    "298f4a3ec2d34256a34314db731243a1": {
     "views": []
    },
    "29f88a3bfd864b37825c7ab74225c6cc": {
     "views": []
    },
    "2ad2de9e394e48fd916fe4fa49392a75": {
     "views": []
    },
    "2b7a67f15d7944e28bd1e1823e53934c": {
     "views": []
    },
    "2bbf3b79d28a45c3bd72fb8431ee155b": {
     "views": []
    },
    "2cfec50b822a4b64b7da4484b546b3b4": {
     "views": [
      {
       "cell_index": 13
      }
     ]
    },
    "2dc07ea21c8a435baf991796025c1ac5": {
     "views": []
    },
    "2e0d218e65e04f68b2b86b17bc85f313": {
     "views": []
    },
    "2eaca7f794cd4d9ba7e58becb5c2442c": {
     "views": []
    },
    "2f068576a866472f8a74f2ccf3320518": {
     "views": []
    },
    "303fbc7634e545dba300d50e3c190e6a": {
     "views": []
    },
    "3234996d7eb74b61a0d18943f9550046": {
     "views": []
    },
    "33bc21da47c74dbfb8514bd667b85397": {
     "views": []
    },
    "349150377d7d46a1a5f7af8f8dd7585b": {
     "views": []
    },
    "3549529a452944e1acc278e7cf2fd934": {
     "views": []
    },
    "368d4730f3f14d8d97a921b5a7a65ca6": {
     "views": [
      {
       "cell_index": 7
      }
     ]
    },
    "36bb88f818164f4485c2bb79823f5f6e": {
     "views": []
    },
    "37710a25615848fd9c0028dcc7aa4a0c": {
     "views": []
    },
    "390aac668812497bb43f10f00e0c0f4d": {
     "views": [
      {
       "cell_index": 14
      }
     ]
    },
    "3948d23ff293433aa0ef6b8091cea0e0": {
     "views": []
    },
    "39529c68d85e4d429dad845851576131": {
     "views": []
    },
    "39707c9a1bd249db92250c3005ecb404": {
     "views": [
      {
       "cell_index": 8
      }
     ]
    },
    "3a95175dce5c45108db20d99d42c9e3d": {
     "views": []
    },
    "3c5d171850124350a3a0d4e9c82be94a": {
     "views": []
    },
    "3dc814a44235432fb61becc16bf7cda1": {
     "views": []
    },
    "3e1431655f6a47fcba12ebe4df1dd5cd": {
     "views": []
    },
    "3e82462c03e64f0cbb34461e45377a1d": {
     "views": []
    },
    "3f98a29246f54738903b343423c38a8f": {
     "views": []
    },
    "40753d858b7d4513879730f6e6c68e11": {
     "views": []
    },
    "408e9b0fb2d945faa121992a81e546ae": {
     "views": []
    },
    "426b471ec4bd43a7807f7490094ee085": {
     "views": []
    },
    "42792ca78a804a4888283cb4c8974fe5": {
     "views": []
    },
    "447fa801ad6448a1bdfdb81fb143e738": {
     "views": []
    },
    "458f2a262be447698c4949fcf94728ff": {
     "views": []
    },
    "4607274135ba4776af8852c41ff6d4d8": {
     "views": []
    },
    "463fb6c4a2a542f092ef49c162e598d3": {
     "views": []
    },
    "46b63e2e5f714e748b881290321621b3": {
     "views": []
    },
    "47856ed961d0429595e5d332f375d26f": {
     "views": []
    },
    "4b1914c40b574acf85165d8fbdbe1ae1": {
     "views": []
    },
    "4bb7fd66106149ef844a5bf772c90997": {
     "views": []
    },
    "4d0152b1354b481785ded01ad18cba02": {
     "views": []
    },
    "4d72594e708f481eb92a25b689094ef3": {
     "views": []
    },
    "4e75a9f77f8f48ba915d32b9ec35a2a2": {
     "views": []
    },
    "4f7a05b8e20046d9a4104ca6323bdc00": {
     "views": []
    },
    "4ff8ddd8da37410ebe670ad71e6de71a": {
     "views": []
    },
    "4ffeb2739aa44429846ed06d8a63bdca": {
     "views": []
    },
    "50d0ee04228244e196a8dca1f6e401bb": {
     "views": [
      {
       "cell_index": 13
      }
     ]
    },
    "51a704c8065c4ed3b384eece173b9269": {
     "views": [
      {
       "cell_index": 7
      }
     ]
    },
    "51e851468310467da6dea5782d3a6d0b": {
     "views": []
    },
    "5325f1a064b54faeae3aa247e7da7799": {
     "views": []
    },
    "53a1c547bac64cab8464445bcfdc7732": {
     "views": []
    },
    "551d0a52bffa4c98a835dae5ecff3819": {
     "views": []
    },
    "55b508f9477b4454ac6bf013b62e881d": {
     "views": []
    },
    "55e6644e768c49f185c0c17b20e0793a": {
     "views": []
    },
    "55fa3477266e402f994a4dc25c6e5f1f": {
     "views": []
    },
    "56269da04d6a4c1fbc377f69e5539783": {
     "views": []
    },
    "5655db7834914f41a61ce66c927ab814": {
     "views": [
      {
       "cell_index": 14
      }
     ]
    },
    "567d8a9e9b18469aa3656801ada210cf": {
     "views": []
    },
    "56cf2711007e4e9ca63ed71e44110cb5": {
     "views": []
    },
    "56d5ff3370b345838efc9d45459962e3": {
     "views": []
    },
    "57e2b0b7d3f347c7b515c0cc23ec5852": {
     "views": []
    },
    "5ab632b62f964021bc20779d730c132f": {
     "views": []
    },
    "5b07862aced044ef9510bc63cbf0ae10": {
     "views": []
    },
    "5c0f44f0cd9d458a80faa99835542424": {
     "views": []
    },
    "5c9dd4ecc0594b8e9d61fb1d7e910965": {
     "views": [
      {
       "cell_index": 9
      }
     ]
    },
    "5d0e607814ad41408a8e8febd90c622d": {
     "views": []
    },
    "5db7dffb84e24a3999b2e85300777a6f": {
     "views": []
    },
    "5df31a0bbbd34ebca4d1485aea25dcc4": {
     "views": []
    },
    "5e2acde798f84e1d8f598580b9da92ea": {
     "views": []
    },
    "5e3134698cad4f90ac3b75c65e728b0d": {
     "views": []
    },
    "5e88de9ef72a44188616388d6e5c86f0": {
     "views": []
    },
    "5f8b62f80e814f769258776f665fc4d6": {
     "views": []
    },
    "5fe968b36b644cdfb9a4d129bbedac91": {
     "views": [
      {
       "cell_index": 10
      }
     ]
    },
    "6030c0156fc147dcb08089733df38b9c": {
     "views": []
    },
    "61237abc4150437da1c4b6e64c2c9ea8": {
     "views": []
    },
    "619eb0daf5934af08ac6971aacdad822": {
     "views": []
    },
    "6228bb2345b84d6c9494a75715ba0446": {
     "views": []
    },
    "6393ca7dce5243a9876c891ea8d473d7": {
     "views": []
    },
    "63ab9a129a1b4bc0b84cbae1162f25dc": {
     "views": []
    },
    "65c6ceb504104afe89424d6ffcf9dc66": {
     "views": []
    },
    "6627a25da93b4fb4827bdd95053c6083": {
     "views": []
    },
    "6654e57c46f248d1a94037382e4fc9f0": {
     "views": []
    },
    "667827321d5b423992cc095f81e7fffa": {
     "views": []
    },
    "67412dcf2efa4047b90d4c78a5d47085": {
     "views": []
    },
    "6886a55021cf4c02bf7362450a03a210": {
     "views": []
    },
    "68d1c6759d1c4c7a95a2683729bb7540": {
     "views": []
    },
    "69458a1ac2454487a3c38d3cd4ba72a0": {
     "views": []
    },
    "6a17aa70728f404bb1cf384804d60ab8": {
     "views": []
    },
    "6a91fc4f399046038eef44b4dcb94a58": {
     "views": []
    },
    "6b5bf3bcef9a4ddcba12d2285a59af1d": {
     "views": []
    },
    "6b6ea577366c4876b8e2e973c519f94a": {
     "views": []
    },
    "6ca0b7a2ec814f05878fe500525d7c11": {
     "views": []
    },
    "6d048fa6032b430d9b6f2de182ae7ee4": {
     "views": []
    },
    "6d2ffe444862430593801939c978d3dd": {
     "views": []
    },
    "6ddf83dfbd084add8e0a00e40987562e": {
     "views": []
    },
    "6f5f958de4d147b9aa129adb85153cc5": {
     "views": []
    },
    "705fcca8b780470c9cd3d294090dba38": {
     "views": [
      {
       "cell_index": 9
      }
     ]
    },
    "71879c7a882948adb56789bd4fe2fcf1": {
     "views": []
    },
    "71e08db6daf942cbb47e6bc2d66ea9e9": {
     "views": []
    },
    "72088ce79a5d4effa6162c21e85a289f": {
     "views": []
    },
    "73bbb4c76dcd4796af969a1ae987b5a3": {
     "views": []
    },
    "74d4bf0b44514bc885f89ff96233f9a4": {
     "views": []
    },
    "75ce86bfecfe4334bb4cea5c746d21cc": {
     "views": []
    },
    "762f951780d047589575b4d8e00646b0": {
     "views": []
    },
    "776926b76ae74002a99cf2dff6032a12": {
     "views": []
    },
    "7783925d824f4d68ad124301f445896d": {
     "views": []
    },
    "77a01766f2ba4899b5eb4f2781df6b2c": {
     "views": []
    },
    "77afc2e85a7c45d0b3f29d39e6f63a00": {
     "views": []
    },
    "781ef8e91b674340b1f9e4a614c84ab0": {
     "views": []
    },
    "7846093a4878469bb5a8d122ae9c1aa9": {
     "views": []
    },
    "78b4664f5737452180a4c918a2d58365": {
     "views": []
    },
    "797f94f74c0842b9a9021d260d628cea": {
     "views": []
    },
    "79863e7adf1d41abba984f474f74f9de": {
     "views": []
    },
    "7a1511f7804544b79b425b1f0513e86d": {
     "views": []
    },
    "7a7dc63244264b589c46f40c80922e2a": {
     "views": []
    },
    "7d26b06ee0984110b3d359fc1cc2adec": {
     "views": []
    },
    "7e87fc8f3653476e8ea4eeda116dc67d": {
     "views": []
    },
    "7ea452629ba14006a6b560187871cb0f": {
     "views": []
    },
    "7eced6ebb64e4ff392da92bb9a7fdf3c": {
     "views": []
    },
    "7eebd483c77d4ac2ad88da49a1c131be": {
     "views": []
    },
    "80494db358044e059eafb81d05ef93e7": {
     "views": []
    },
    "80652b7684fe4e3aab2662fb4ff1c249": {
     "views": []
    },
    "80f3eb7c27514759a0af486a23013957": {
     "views": []
    },
    "828ad845d59545338a266df18436b2c3": {
     "views": []
    },
    "82d5fb14c2fb4672bcf405077be38f95": {
     "views": []
    },
    "83208ab463884ba3a76499036b574347": {
     "views": []
    },
    "853f758be9cc4fc5b84f4c334031da4a": {
     "views": []
    },
    "8591274b5b024ecd95e068bd1880f077": {
     "views": [
      {
       "cell_index": 9
      }
     ]
    },
    "85b0c2d06785483988549fd176c70af9": {
     "views": [
      {
       "cell_index": 7
      }
     ]
    },
    "870fd161704a4268bc1f061c11d4573d": {
     "views": [
      {
       "cell_index": 14
      }
     ]
    },
    "8750385843b04326827660439fb1931a": {
     "views": []
    },
    "890455abf2064f5bb939807806ec9d46": {
     "views": []
    },
    "897d348e33a54af3a02594c871e2ec27": {
     "views": []
    },
    "8a14e21dc10247de94c39875b34d5fc1": {
     "views": []
    },
    "8a89fb1e933d41d7a8fc0412a31a0e3c": {
     "views": []
    },
    "8abd38d71de34591acd82c276e0cde7c": {
     "views": []
    },
    "8b3ebb02ed1149d9a82f7b0a7955885f": {
     "views": [
      {
       "cell_index": 8
      }
     ]
    },
    "8c718af68c88482cbdbc75beedb06e5d": {
     "views": []
    },
    "8cfd9cb3fc2c48d68d71cc0357040e05": {
     "views": []
    },
    "8ea1e3178cf8491aa9143ee22ba1eea6": {
     "views": []
    },
    "8f1f084795054d5d9477b7f40416163c": {
     "views": []
    },
    "8fea45ce872c4b11a504f3a467348d57": {
     "views": [
      {
       "cell_index": 10
      }
     ]
    },
    "904798ce3bad4dc79c5509d043a4fc24": {
     "views": []
    },
    "918fe42a8bf84da6a17eeb5fa821565e": {
     "views": []
    },
    "91a7209f0c5546cd97f0d001b898361f": {
     "views": []
    },
    "91bbe2a6d0234f5b85317931ba7e5c2e": {
     "views": []
    },
    "9210732bfb67455c8ee263c22e9aa6f7": {
     "views": []
    },
    "934a852d218b46cc8c55e4af4e3a4436": {
     "views": []
    },
    "9450c3d1a637403483f304f9b9e024a3": {
     "views": []
    },
    "94727bd0ce404908b4407fcca4a12ce0": {
     "views": []
    },
    "94ead26fec6a410a9eac3841cbf686f8": {
     "views": []
    },
    "95361860a94540418af4455f49d64df1": {
     "views": []
    },
    "9549f2533285471fbaf91944d4952e5e": {
     "views": []
    },
    "95501f7c2bf942da9ad8143a3641a1fa": {
     "views": []
    },
    "9593fa501bd5410d82a1a5061e0b3644": {
     "views": []
    },
    "97224ac29e8848dfa08215fa6677ac72": {
     "views": []
    },
    "9797130b582e4c9f8cf3842bccb2aefd": {
     "views": []
    },
    "97ae647423f24fc0bd9c85103013a206": {
     "views": []
    },
    "985e6228ae7d4fbf842732ae1c477724": {
     "views": [
      {
       "cell_index": 10
      }
     ]
    },
    "989d30117a9d437f89e5b978c982cd82": {
     "views": []
    },
    "9b5d32d4e2ed4804ba8a8d97cff8cc05": {
     "views": []
    },
    "9b6a005a045b4b658423f1f326481d86": {
     "views": []
    },
    "a477b79c0e9841e7abb850c2d59f53e1": {
     "views": []
    },
    "a53f30f8c28f4d88bdd0c64561b7002c": {
     "views": []
    },
    "a5439ea73d2b4353ae2a91f6b169f737": {
     "views": []
    },
    "a626683dd6d84156a36f06bd72fe56c3": {
     "views": [
      {
       "cell_index": 13
      }
     ]
    },
    "a6595cb0d51f4e768ff7f6520deebba4": {
     "views": [
      {
       "cell_index": 4
      }
     ]
    },
    "a8de5ad199cb48f58f3ffc6d6fc2f53a": {
     "views": []
    },
    "ac4355aea8d343068fff2508f2eae502": {
     "views": []
    },
    "aced5a1761284a30b278a8e2be718d98": {
     "views": []
    },
    "ad611730d33b4e9796f64664370e1c2c": {
     "views": []
    },
    "afd08551091a4af8b9fe0b7af849bf1d": {
     "views": []
    },
    "b0067526da204ad8a39ce079f7d616d8": {
     "views": []
    },
    "b0c452858ddc4e66bed64c4a32446192": {
     "views": [
      {
       "cell_index": 9
      }
     ]
    },
    "b0ce35551fd14f8ca72d5989f40baeb0": {
     "views": []
    },
    "b15b5f0a3de749e1a78392b2d31ddc88": {
     "views": []
    },
    "b1c1280fd0db4f47a523c0d29898d9aa": {
     "views": []
    },
    "b2f28a2d1e644b2bb388597a7f12dec4": {
     "views": []
    },
    "b2fceed2908a428bb58bf5d7f88ef9e2": {
     "views": []
    },
    "b397f8e849bf42f698f1102b16262115": {
     "views": []
    },
    "b4b47e2b33ce434089a3a44010ae6146": {
     "views": [
      {
       "cell_index": 13
      }
     ]
    },
    "b519cc7a0c814f2b812d345b44a26f2e": {
     "views": []
    },
    "b6441391132b40f78111a996c947d937": {
     "views": []
    },
    "b6c3b10384f046a286a01ee0599ed01a": {
     "views": [
      {
       "cell_index": 3
      }
     ]
    },
    "b7622b3ecbdc469c8bfcc8650a71e404": {
     "views": []
    },
    "b76f6b71896b46b1b2c091a0513dfa88": {
     "views": [
      {
       "cell_index": 15
      }
     ]
    },
    "b8247003aef34509a603ce0707565439": {
     "views": []
    },
    "b83bf7995e834681a548fedbf67aea5a": {
     "views": []
    },
    "bc12c8c01cef413586d49ca307043f8d": {
     "views": []
    },
    "bc3b62e0217b49e68a6c5035ff1c8d2a": {
     "views": []
    },
    "bddaaf9e436c476ca7259af130a61362": {
     "views": []
    },
    "be3f6343e59345f4ab608a842f8efdde": {
     "views": []
    },
    "bf09ea02c92c4e39aa7f6ae88cb143cb": {
     "views": []
    },
    "c1bc401715f340fabac4306fb4447ec1": {
     "views": [
      {
       "cell_index": 10
      }
     ]
    },
    "c367d540dc484bcba78a2195c2babb3e": {
     "views": []
    },
    "c3f05ca2273747279a98c6b9b13a0c8a": {
     "views": []
    },
    "c4a924a8316e4a70aef50b0e311ab225": {
     "views": []
    },
    "c4fd88e3a7c344a4bd81939dc1217a18": {
     "views": []
    },
    "c51e56bed2614a119634bf021b0f8620": {
     "views": []
    },
    "c61807ecdc8749ff894b2bdb1aafcf3c": {
     "views": []
    },
    "c6c283375d8a44beafe6b58c325cbb2b": {
     "views": []
    },
    "c6de1c5fe54444ecb0e2d56ecf153a68": {
     "views": []
    },
    "c8c1f820158248128cb1f76e54053ae8": {
     "views": []
    },
    "cb01f0b1e68a4953ad2fcd5bf3129bd4": {
     "views": [
      {
       "cell_index": 2
      }
     ]
    },
    "cb48877c4f574872b3758500e67422e1": {
     "views": [
      {
       "cell_index": 13
      }
     ]
    },
    "cf9acf673a994764819e1f16412002dc": {
     "views": []
    },
    "d01fe0563c2248ed877d19504d0ddef1": {
     "views": []
    },
    "d05fe68275ef4a18853bbd7b5aa9e7ec": {
     "views": []
    },
    "d1958dfcc28747e0ac7923206f4e2e99": {
     "views": []
    },
    "d2d83af3c59f42968e9261fe2338cd10": {
     "views": []
    },
    "d42802bf61f5467584732eba35f07cda": {
     "views": []
    },
    "d4a174d34605485fba3480abd00e5005": {
     "views": []
    },
    "d6606940f57548c28a659b703b584273": {
     "views": []
    },
    "d7c97dab1e0f418eaa76004d73fafc17": {
     "views": []
    },
    "d820df31452f430ab26c9e5383ff47e0": {
     "views": []
    },
    "d89ad22e7ce54fa1a586615b2c02c261": {
     "views": [
      {
       "cell_index": 14
      }
     ]
    },
    "d9378712355e4b8e8bdb198df8291879": {
     "views": []
    },
    "d98d2b4be64f4ff396d1654b932a9532": {
     "views": []
    },
    "dae673ca14ba452591a770ae6263a040": {
     "views": []
    },
    "dafecaf7fa57425aa738cf6b0cd66815": {
     "views": []
    },
    "dd42950bc38c4ae889a73f9c7e2e3357": {
     "views": []
    },
    "ddcb41fa90524bebbb26cb5ad7e72013": {
     "views": []
    },
    "df12a5c809c245ae90bccf0b31405ebd": {
     "views": [
      {
       "cell_index": 7
      }
     ]
    },
    "df5c8752fbf4469b94f82dead4efbe37": {
     "views": []
    },
    "df7f069093bb4d369f0fbc7c395d5281": {
     "views": []
    },
    "df8b3e2ccae443e8a67ab3edcdf5270e": {
     "views": []
    },
    "dffdc428379443f5ba0c4db491824322": {
     "views": []
    },
    "e04ad9d2a05c463e93889967326bcdd6": {
     "views": []
    },
    "e0675715f457414087f825f6ea2343a3": {
     "views": []
    },
    "e266c0f67f2341db93722caa15947a0a": {
     "views": []
    },
    "e26fc9ad38ac4d95935042bb31860a33": {
     "views": []
    },
    "e5384727bf0c41f5820afa5bfb81dea5": {
     "views": []
    },
    "e668f1b1cbfe429cbc9694a43783f804": {
     "views": [
      {
       "cell_index": 9
      }
     ]
    },
    "e77892fdccaa4cf587061dcc388ee669": {
     "views": []
    },
    "e870d0921c224cac8c3976d2d365db03": {
     "views": [
      {
       "cell_index": 8
      }
     ]
    },
    "e99f7fb8ebc34da5bd123e6146045da5": {
     "views": []
    },
    "eac2239983e6467d90c8ea2588bdf387": {
     "views": []
    },
    "ead3eb9a8b394a6aa04b044bb29518df": {
     "views": []
    },
    "ec74f9042aaf4fcf87511c583701e411": {
     "views": []
    },
    "ecfda5907eea4797aaa401f9f0496561": {
     "views": []
    },
    "ed2fb4c281404999b2c7c798971b3090": {
     "views": []
    },
    "edeb0feb32714e128915fa28dc82c7a9": {
     "views": []
    },
    "ee21fa670f1745c38680707653e1f4e5": {
     "views": []
    },
    "eea7017e63e4431cad37871026f8090c": {
     "views": []
    },
    "ef940d2a68914f079e7128ecc8b863fe": {
     "views": [
      {
       "cell_index": 14
      }
     ]
    },
    "f12902d593504f679f68646226d685cb": {
     "views": []
    },
    "f21504119ec640c4a53493dc08202049": {
     "views": []
    },
    "f2840f71b6784d9cbc9536cad193def9": {
     "views": []
    },
    "f2acf05b80d043de9942137d47653468": {
     "views": []
    },
    "f2de88c2ed0f49f7865131dc3a680830": {
     "views": []
    },
    "f3627cc150ce4b38bb24ccf476b85878": {
     "views": []
    },
    "f3cd152eb29c476d85b107cee8e6f321": {
     "views": []
    },
    "f40055833ec34a16aa0b156ed548670e": {
     "views": []
    },
    "f458efbaa51245f8a956c5879867c5c6": {
     "views": []
    },
    "f6480f89b30f430e9bf44b592abbced8": {
     "views": []
    },
    "f70344fcf8a74667b4fb6947dbcf227d": {
     "views": []
    },
    "f7c4fa6649d9406fbe1b7478e69149ba": {
     "views": []
    },
    "f8b30064c20e42ef83aa5c55765dc323": {
     "views": []
    },
    "f983f41be88d4caeaf135a3df5140fe1": {
     "views": []
    },
    "fb0a0f764cd54be99f30c803f513fded": {
     "views": []
    },
    "fbda4313ddd748908330b2fdcc14b53a": {
     "views": []
    },
    "fbe686e5f66d46138cbb6f4c762117f9": {
     "views": []
    },
    "fc99d4d6fe354c31a6e28a29de6c79ac": {
     "views": []
    },
    "feeac6570c3843d1a296c347fc3acfe3": {
     "views": []
    },
    "ff441ff346044ee4bf303766dd24b5f4": {
     "views": []
    }
   },
   "version": "1.1.2"
  }
 },
 "nbformat": 4,
 "nbformat_minor": 0
}
